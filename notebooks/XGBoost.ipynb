{
 "cells": [
  {
   "cell_type": "markdown",
   "metadata": {},
   "source": [
    "## SVM Results"
   ]
  },
  {
   "cell_type": "code",
   "execution_count": 1,
   "metadata": {},
   "outputs": [],
   "source": [
    "import matplotlib.pyplot as plt\n",
    "import numpy as np\n",
    "import re\n",
    "\n",
    "with open('../src/backup.txt', 'r') as f:\n",
    "    results = f.read()\n",
    "\n",
    "results = results.replace(' ', '')\n",
    "res_per_size = [x[0] for x in re.findall('(Averaged(.*?)(?=Datasetsize))', results)] + [results[-183:]]\n",
    "\n",
    "train_recalls = []\n",
    "train_precisions = []\n",
    "train_f1s = []\n",
    "test_recalls = []\n",
    "test_precisions = []\n",
    "test_f1s = []\n",
    "lists = [train_recalls, train_precisions, train_f1s, test_recalls, test_precisions, test_f1s]\n",
    "\n",
    "for x in res_per_size:\n",
    "    res = re.findall('0[\\.][0-9]*', x)\n",
    "    for i, r in enumerate(res):\n",
    "        lists[i].append(float(r))"
   ]
  },
  {
   "cell_type": "code",
   "execution_count": 2,
   "metadata": {},
   "outputs": [
    {
     "data": {
      "image/png": "[encoded data removed]",
      "text/plain": [
       "<Figure size 432x288 with 1 Axes>"
      ]
     },
     "metadata": {},
     "output_type": "display_data"
    }
   ],
   "source": [
    "plt.plot(np.linspace(25,250,10),test_f1s)\n",
    "plt.xlabel('Number of authors')\n",
    "plt.show()"
   ]
  },
  {
   "cell_type": "code",
   "execution_count": 3,
   "metadata": {},
   "outputs": [
    {
     "name": "stdout",
     "output_type": "stream",
     "text": [
      "Dataset size: 25\n",
      "Train F1: 0.7437381951381952\n",
      "Test F1: 0.723849\n",
      "\n",
      "Dataset size: 50\n",
      "Train F1: 0.6443196581196581\n",
      "Test F1: 0.624906\n",
      "\n",
      "Dataset size: 75\n",
      "Train F1: 0.5613884577754547\n",
      "Test F1: 0.598677\n",
      "\n",
      "Dataset size: 100\n",
      "Train F1: 0.531714848713378\n",
      "Test F1: 0.551632\n",
      "\n",
      "Dataset size: 125\n",
      "Train F1: 0.5733988233988235\n",
      "Test F1: 0.599662\n",
      "\n",
      "Dataset size: 150\n",
      "Train F1: 0.5317856976356976\n",
      "Test F1: 0.538971\n",
      "\n",
      "Dataset size: 175\n",
      "Train F1: 0.5556018188161044\n",
      "Test F1: 0.593614\n",
      "\n",
      "Dataset size: 200\n",
      "Train F1: 0.5368430014430015\n",
      "Test F1: 0.5461\n",
      "\n",
      "Dataset size: 225\n",
      "Train F1: 0.5053265536932204\n",
      "Test F1: 0.516163\n",
      "\n",
      "Dataset size: 250\n",
      "Train F1: 0.5035317369386719\n",
      "Test F1: 0.518212\n",
      "\n"
     ]
    }
   ],
   "source": [
    "for i, f in enumerate(zip(train_f1s, test_f1s)):\n",
    "    print('Dataset size:', (i+1)*25)\n",
    "    print('Train F1:', f[0])\n",
    "    print('Test F1:', f[1])\n",
    "    print('')"
   ]
  },
  {
   "cell_type": "markdown",
   "metadata": {},
   "source": [
    "## XGBoost"
   ]
  },
  {
   "cell_type": "code",
   "execution_count": null,
   "metadata": {},
   "outputs": [
    {
     "name": "stderr",
     "output_type": "stream",
     "text": [
      "C:\\Users\\laure\\Anaconda3\\envs\\neuralsnets\\lib\\site-packages\\sklearn\\cross_validation.py:41: DeprecationWarning: This module was deprecated in version 0.18 in favor of the model_selection module into which all the refactored classes and functions are moved. Also note that the interface of the new CV iterators are different from that of this module. This module will be removed in 0.20.\n",
      "  \"This module will be removed in 0.20.\", DeprecationWarning)\n"
     ]
    },
    {
     "name": "stdout",
     "output_type": "stream",
     "text": [
      "Fitting 3 folds for each of 17 candidates, totalling 51 fits\n"
     ]
    },
    {
     "name": "stderr",
     "output_type": "stream",
     "text": [
      "[Parallel(n_jobs=-1)]: Done  16 tasks      | elapsed:   17.3s\n",
      "[Parallel(n_jobs=-1)]: Done  51 out of  51 | elapsed:   49.0s finished\n",
      "C:\\Users\\laure\\Anaconda3\\envs\\neuralsnets\\lib\\site-packages\\sklearn\\preprocessing\\label.py:151: DeprecationWarning: The truth value of an empty array is ambiguous. Returning False, but in future this will result in an error. Use `array.size > 0` to check that an array is not empty.\n",
      "  if diff:\n"
     ]
    },
    {
     "name": "stdout",
     "output_type": "stream",
     "text": [
      "Fitting 3 folds for each of 17 candidates, totalling 51 fits\n"
     ]
    },
    {
     "name": "stderr",
     "output_type": "stream",
     "text": [
      "[Parallel(n_jobs=-1)]: Done  16 tasks      | elapsed:   14.6s\n",
      "[Parallel(n_jobs=-1)]: Done  51 out of  51 | elapsed:   50.8s finished\n",
      "C:\\Users\\laure\\Anaconda3\\envs\\neuralsnets\\lib\\site-packages\\sklearn\\preprocessing\\label.py:151: DeprecationWarning: The truth value of an empty array is ambiguous. Returning False, but in future this will result in an error. Use `array.size > 0` to check that an array is not empty.\n",
      "  if diff:\n"
     ]
    },
    {
     "name": "stdout",
     "output_type": "stream",
     "text": [
      "Fitting 3 folds for each of 17 candidates, totalling 51 fits\n"
     ]
    },
    {
     "name": "stderr",
     "output_type": "stream",
     "text": [
      "[Parallel(n_jobs=-1)]: Done  16 tasks      | elapsed:   18.9s\n",
      "[Parallel(n_jobs=-1)]: Done  51 out of  51 | elapsed:   55.2s finished\n",
      "C:\\Users\\laure\\Anaconda3\\envs\\neuralsnets\\lib\\site-packages\\sklearn\\preprocessing\\label.py:151: DeprecationWarning: The truth value of an empty array is ambiguous. Returning False, but in future this will result in an error. Use `array.size > 0` to check that an array is not empty.\n",
      "  if diff:\n"
     ]
    },
    {
     "name": "stdout",
     "output_type": "stream",
     "text": [
      "Fitting 3 folds for each of 17 candidates, totalling 51 fits\n"
     ]
    },
    {
     "name": "stderr",
     "output_type": "stream",
     "text": [
      "[Parallel(n_jobs=-1)]: Done  16 tasks      | elapsed:   20.7s\n",
      "[Parallel(n_jobs=-1)]: Done  51 out of  51 | elapsed:   51.8s finished\n",
      "C:\\Users\\laure\\Anaconda3\\envs\\neuralsnets\\lib\\site-packages\\sklearn\\preprocessing\\label.py:151: DeprecationWarning: The truth value of an empty array is ambiguous. Returning False, but in future this will result in an error. Use `array.size > 0` to check that an array is not empty.\n",
      "  if diff:\n"
     ]
    },
    {
     "name": "stdout",
     "output_type": "stream",
     "text": [
      "Fitting 3 folds for each of 17 candidates, totalling 51 fits\n"
     ]
    },
    {
     "name": "stderr",
     "output_type": "stream",
     "text": [
      "[Parallel(n_jobs=-1)]: Done  16 tasks      | elapsed:   21.7s\n",
      "[Parallel(n_jobs=-1)]: Done  51 out of  51 | elapsed:   50.3s finished\n",
      "C:\\Users\\laure\\Anaconda3\\envs\\neuralsnets\\lib\\site-packages\\sklearn\\preprocessing\\label.py:151: DeprecationWarning: The truth value of an empty array is ambiguous. Returning False, but in future this will result in an error. Use `array.size > 0` to check that an array is not empty.\n",
      "  if diff:\n",
      "C:\\Users\\laure\\Anaconda3\\envs\\neuralsnets\\lib\\site-packages\\sklearn\\preprocessing\\label.py:151: DeprecationWarning: The truth value of an empty array is ambiguous. Returning False, but in future this will result in an error. Use `array.size > 0` to check that an array is not empty.\n",
      "  if diff:\n",
      "C:\\Users\\laure\\Anaconda3\\envs\\neuralsnets\\lib\\site-packages\\sklearn\\preprocessing\\label.py:151: DeprecationWarning: The truth value of an empty array is ambiguous. Returning False, but in future this will result in an error. Use `array.size > 0` to check that an array is not empty.\n",
      "  if diff:\n"
     ]
    },
    {
     "name": "stdout",
     "output_type": "stream",
     "text": [
      "\n",
      "##### Dataset size: 25\n",
      "--- Train Scores ---\n",
      "Recall: 0.7266666666666668\n",
      "Precision: 0.7266666666666668\n",
      "F1 score: 0.7266666666666666\n",
      "\n",
      "{'colsample_bylevel': 1, 'max_delta_step': 0, 'gamma': 0, 'booster': 'gbtree', 'learning_rate': 0.016528730319883916, 'max_depth': 7, 'missing': None, 'colsample_bytree': 0.687576763459304, 'min_child_weight': 1, 'random_state': 0, 'seed': None, 'silent': True, 'subsample': 0.5376345191146203, 'n_estimators': 230, 'reg_lambda': 1, 'n_jobs': 1, 'scale_pos_weight': 1, 'reg_alpha': 0, 'base_score': 0.5, 'nthread': None, 'objective': 'multi:softprob'}\n",
      "\n",
      "{'colsample_bylevel': 1, 'max_delta_step': 0, 'gamma': 0, 'booster': 'gbtree', 'learning_rate': 0.014580226888128107, 'max_depth': 5, 'missing': None, 'colsample_bytree': 0.8875472621888925, 'min_child_weight': 2, 'random_state': 0, 'seed': None, 'silent': True, 'subsample': 0.5927070529362783, 'n_estimators': 201, 'reg_lambda': 1, 'n_jobs': 1, 'scale_pos_weight': 1, 'reg_alpha': 0, 'base_score': 0.5, 'nthread': None, 'objective': 'multi:softprob'}\n",
      "\n",
      "{'colsample_bylevel': 1, 'max_delta_step': 0, 'gamma': 0, 'booster': 'gbtree', 'learning_rate': 0.015283722958650792, 'max_depth': 7, 'missing': None, 'colsample_bytree': 0.8064729973694345, 'min_child_weight': 2, 'random_state': 0, 'seed': None, 'silent': True, 'subsample': 0.41781026012091316, 'n_estimators': 478, 'reg_lambda': 1, 'n_jobs': 1, 'scale_pos_weight': 1, 'reg_alpha': 0, 'base_score': 0.5, 'nthread': None, 'objective': 'multi:softprob'}\n",
      "\n"
     ]
    },
    {
     "name": "stderr",
     "output_type": "stream",
     "text": [
      "C:\\Users\\laure\\Anaconda3\\envs\\neuralsnets\\lib\\site-packages\\sklearn\\preprocessing\\label.py:151: DeprecationWarning: The truth value of an empty array is ambiguous. Returning False, but in future this will result in an error. Use `array.size > 0` to check that an array is not empty.\n",
      "  if diff:\n",
      "C:\\Users\\laure\\Anaconda3\\envs\\neuralsnets\\lib\\site-packages\\sklearn\\preprocessing\\label.py:151: DeprecationWarning: The truth value of an empty array is ambiguous. Returning False, but in future this will result in an error. Use `array.size > 0` to check that an array is not empty.\n",
      "  if diff:\n"
     ]
    },
    {
     "name": "stdout",
     "output_type": "stream",
     "text": [
      "{'colsample_bylevel': 1, 'max_delta_step': 0, 'gamma': 0, 'booster': 'gbtree', 'learning_rate': 0.03208107642079346, 'max_depth': 7, 'missing': None, 'colsample_bytree': 0.9468858391887901, 'min_child_weight': 3, 'random_state': 0, 'seed': None, 'silent': True, 'subsample': 0.535994361433825, 'n_estimators': 205, 'reg_lambda': 1, 'n_jobs': 1, 'scale_pos_weight': 1, 'reg_alpha': 0, 'base_score': 0.5, 'nthread': None, 'objective': 'multi:softprob'}\n",
      "\n",
      "{'colsample_bylevel': 1, 'max_delta_step': 0, 'gamma': 0, 'booster': 'gbtree', 'learning_rate': 0.021871713627704625, 'max_depth': 5, 'missing': None, 'colsample_bytree': 0.6312441164890237, 'min_child_weight': 1, 'random_state': 0, 'seed': None, 'silent': True, 'subsample': 0.3080793442457701, 'n_estimators': 451, 'reg_lambda': 1, 'n_jobs': 1, 'scale_pos_weight': 1, 'reg_alpha': 0, 'base_score': 0.5, 'nthread': None, 'objective': 'multi:softprob'}\n",
      "\n"
     ]
    },
    {
     "name": "stderr",
     "output_type": "stream",
     "text": [
      "C:\\Users\\laure\\Anaconda3\\envs\\neuralsnets\\lib\\site-packages\\sklearn\\preprocessing\\label.py:151: DeprecationWarning: The truth value of an empty array is ambiguous. Returning False, but in future this will result in an error. Use `array.size > 0` to check that an array is not empty.\n",
      "  if diff:\n"
     ]
    },
    {
     "name": "stdout",
     "output_type": "stream",
     "text": [
      "--- Test Scores ---\n",
      "Recall: 0.728\n",
      "Precision: 0.728\n",
      "F1 score: 0.728\n",
      "\n",
      "Fitting 3 folds for each of 17 candidates, totalling 51 fits\n"
     ]
    },
    {
     "name": "stderr",
     "output_type": "stream",
     "text": [
      "[Parallel(n_jobs=-1)]: Done  16 tasks      | elapsed:  2.5min\n",
      "[Parallel(n_jobs=-1)]: Done  51 out of  51 | elapsed:  6.3min finished\n",
      "C:\\Users\\laure\\Anaconda3\\envs\\neuralsnets\\lib\\site-packages\\sklearn\\preprocessing\\label.py:151: DeprecationWarning: The truth value of an empty array is ambiguous. Returning False, but in future this will result in an error. Use `array.size > 0` to check that an array is not empty.\n",
      "  if diff:\n"
     ]
    },
    {
     "name": "stdout",
     "output_type": "stream",
     "text": [
      "Fitting 3 folds for each of 17 candidates, totalling 51 fits\n"
     ]
    },
    {
     "name": "stderr",
     "output_type": "stream",
     "text": [
      "[Parallel(n_jobs=-1)]: Done  16 tasks      | elapsed:  1.6min\n",
      "[Parallel(n_jobs=-1)]: Done  51 out of  51 | elapsed:  6.3min finished\n",
      "C:\\Users\\laure\\Anaconda3\\envs\\neuralsnets\\lib\\site-packages\\sklearn\\preprocessing\\label.py:151: DeprecationWarning: The truth value of an empty array is ambiguous. Returning False, but in future this will result in an error. Use `array.size > 0` to check that an array is not empty.\n",
      "  if diff:\n"
     ]
    },
    {
     "name": "stdout",
     "output_type": "stream",
     "text": [
      "Fitting 3 folds for each of 17 candidates, totalling 51 fits\n"
     ]
    },
    {
     "name": "stderr",
     "output_type": "stream",
     "text": [
      "[Parallel(n_jobs=-1)]: Done  16 tasks      | elapsed:  2.4min\n",
      "[Parallel(n_jobs=-1)]: Done  51 out of  51 | elapsed:  5.9min finished\n",
      "C:\\Users\\laure\\Anaconda3\\envs\\neuralsnets\\lib\\site-packages\\sklearn\\preprocessing\\label.py:151: DeprecationWarning: The truth value of an empty array is ambiguous. Returning False, but in future this will result in an error. Use `array.size > 0` to check that an array is not empty.\n",
      "  if diff:\n"
     ]
    },
    {
     "name": "stdout",
     "output_type": "stream",
     "text": [
      "Fitting 3 folds for each of 17 candidates, totalling 51 fits\n"
     ]
    },
    {
     "name": "stderr",
     "output_type": "stream",
     "text": [
      "[Parallel(n_jobs=-1)]: Done  16 tasks      | elapsed:  1.7min\n",
      "[Parallel(n_jobs=-1)]: Done  51 out of  51 | elapsed:  5.5min finished\n",
      "C:\\Users\\laure\\Anaconda3\\envs\\neuralsnets\\lib\\site-packages\\sklearn\\preprocessing\\label.py:151: DeprecationWarning: The truth value of an empty array is ambiguous. Returning False, but in future this will result in an error. Use `array.size > 0` to check that an array is not empty.\n",
      "  if diff:\n"
     ]
    },
    {
     "name": "stdout",
     "output_type": "stream",
     "text": [
      "Fitting 3 folds for each of 17 candidates, totalling 51 fits\n"
     ]
    },
    {
     "name": "stderr",
     "output_type": "stream",
     "text": [
      "[Parallel(n_jobs=-1)]: Done  16 tasks      | elapsed:  2.2min\n",
      "[Parallel(n_jobs=-1)]: Done  51 out of  51 | elapsed:  6.3min finished\n",
      "C:\\Users\\laure\\Anaconda3\\envs\\neuralsnets\\lib\\site-packages\\sklearn\\preprocessing\\label.py:151: DeprecationWarning: The truth value of an empty array is ambiguous. Returning False, but in future this will result in an error. Use `array.size > 0` to check that an array is not empty.\n",
      "  if diff:\n"
     ]
    },
    {
     "name": "stdout",
     "output_type": "stream",
     "text": [
      "\n",
      "##### Dataset size: 50\n",
      "--- Train Scores ---\n",
      "Recall: 0.6416666666666667\n",
      "Precision: 0.6416666666666667\n",
      "F1 score: 0.6416666666666667\n",
      "\n",
      "{'colsample_bylevel': 1, 'max_delta_step': 0, 'gamma': 0, 'booster': 'gbtree', 'learning_rate': 0.0344655872334792, 'max_depth': 5, 'missing': None, 'colsample_bytree': 0.9400145920144343, 'min_child_weight': 2, 'random_state': 0, 'seed': None, 'silent': True, 'subsample': 0.4057740440212211, 'n_estimators': 240, 'reg_lambda': 1, 'n_jobs': 1, 'scale_pos_weight': 1, 'reg_alpha': 0, 'base_score': 0.5, 'nthread': None, 'objective': 'multi:softprob'}\n",
      "\n"
     ]
    },
    {
     "name": "stderr",
     "output_type": "stream",
     "text": [
      "C:\\Users\\laure\\Anaconda3\\envs\\neuralsnets\\lib\\site-packages\\sklearn\\preprocessing\\label.py:151: DeprecationWarning: The truth value of an empty array is ambiguous. Returning False, but in future this will result in an error. Use `array.size > 0` to check that an array is not empty.\n",
      "  if diff:\n"
     ]
    },
    {
     "name": "stdout",
     "output_type": "stream",
     "text": [
      "{'colsample_bylevel': 1, 'max_delta_step': 0, 'gamma': 0, 'booster': 'gbtree', 'learning_rate': 0.020071418077779776, 'max_depth': 9, 'missing': None, 'colsample_bytree': 0.8957714615404231, 'min_child_weight': 2, 'random_state': 0, 'seed': None, 'silent': True, 'subsample': 0.4879128566053883, 'n_estimators': 227, 'reg_lambda': 1, 'n_jobs': 1, 'scale_pos_weight': 1, 'reg_alpha': 0, 'base_score': 0.5, 'nthread': None, 'objective': 'multi:softprob'}\n",
      "\n"
     ]
    },
    {
     "name": "stderr",
     "output_type": "stream",
     "text": [
      "C:\\Users\\laure\\Anaconda3\\envs\\neuralsnets\\lib\\site-packages\\sklearn\\preprocessing\\label.py:151: DeprecationWarning: The truth value of an empty array is ambiguous. Returning False, but in future this will result in an error. Use `array.size > 0` to check that an array is not empty.\n",
      "  if diff:\n"
     ]
    },
    {
     "name": "stdout",
     "output_type": "stream",
     "text": [
      "{'colsample_bylevel': 1, 'max_delta_step': 0, 'gamma': 0, 'booster': 'gbtree', 'learning_rate': 0.07201710205641687, 'max_depth': 4, 'missing': None, 'colsample_bytree': 0.7635320690902488, 'min_child_weight': 1, 'random_state': 0, 'seed': None, 'silent': True, 'subsample': 0.31645934548262705, 'n_estimators': 298, 'reg_lambda': 1, 'n_jobs': 1, 'scale_pos_weight': 1, 'reg_alpha': 0, 'base_score': 0.5, 'nthread': None, 'objective': 'multi:softprob'}\n",
      "\n"
     ]
    },
    {
     "name": "stderr",
     "output_type": "stream",
     "text": [
      "C:\\Users\\laure\\Anaconda3\\envs\\neuralsnets\\lib\\site-packages\\sklearn\\preprocessing\\label.py:151: DeprecationWarning: The truth value of an empty array is ambiguous. Returning False, but in future this will result in an error. Use `array.size > 0` to check that an array is not empty.\n",
      "  if diff:\n"
     ]
    },
    {
     "name": "stdout",
     "output_type": "stream",
     "text": [
      "{'colsample_bylevel': 1, 'max_delta_step': 0, 'gamma': 0, 'booster': 'gbtree', 'learning_rate': 0.010515994891846365, 'max_depth': 8, 'missing': None, 'colsample_bytree': 0.9883599307360054, 'min_child_weight': 1, 'random_state': 0, 'seed': None, 'silent': True, 'subsample': 0.37429323711759255, 'n_estimators': 198, 'reg_lambda': 1, 'n_jobs': 1, 'scale_pos_weight': 1, 'reg_alpha': 0, 'base_score': 0.5, 'nthread': None, 'objective': 'multi:softprob'}\n",
      "\n"
     ]
    },
    {
     "name": "stderr",
     "output_type": "stream",
     "text": [
      "C:\\Users\\laure\\Anaconda3\\envs\\neuralsnets\\lib\\site-packages\\sklearn\\preprocessing\\label.py:151: DeprecationWarning: The truth value of an empty array is ambiguous. Returning False, but in future this will result in an error. Use `array.size > 0` to check that an array is not empty.\n",
      "  if diff:\n"
     ]
    },
    {
     "name": "stdout",
     "output_type": "stream",
     "text": [
      "{'colsample_bylevel': 1, 'max_delta_step': 0, 'gamma': 0, 'booster': 'gbtree', 'learning_rate': 0.01890406506225216, 'max_depth': 8, 'missing': None, 'colsample_bytree': 0.9791550097454551, 'min_child_weight': 1, 'random_state': 0, 'seed': None, 'silent': True, 'subsample': 0.37224914607131754, 'n_estimators': 449, 'reg_lambda': 1, 'n_jobs': 1, 'scale_pos_weight': 1, 'reg_alpha': 0, 'base_score': 0.5, 'nthread': None, 'objective': 'multi:softprob'}\n",
      "\n"
     ]
    },
    {
     "name": "stderr",
     "output_type": "stream",
     "text": [
      "C:\\Users\\laure\\Anaconda3\\envs\\neuralsnets\\lib\\site-packages\\sklearn\\preprocessing\\label.py:151: DeprecationWarning: The truth value of an empty array is ambiguous. Returning False, but in future this will result in an error. Use `array.size > 0` to check that an array is not empty.\n",
      "  if diff:\n"
     ]
    },
    {
     "name": "stdout",
     "output_type": "stream",
     "text": [
      "--- Test Scores ---\n",
      "Recall: 0.648\n",
      "Precision: 0.648\n",
      "F1 score: 0.648\n",
      "\n",
      "Fitting 3 folds for each of 17 candidates, totalling 51 fits\n"
     ]
    },
    {
     "name": "stderr",
     "output_type": "stream",
     "text": [
      "[Parallel(n_jobs=-1)]: Done  16 tasks      | elapsed:  3.6min\n",
      "[Parallel(n_jobs=-1)]: Done  51 out of  51 | elapsed: 14.2min finished\n",
      "C:\\Users\\laure\\Anaconda3\\envs\\neuralsnets\\lib\\site-packages\\sklearn\\preprocessing\\label.py:151: DeprecationWarning: The truth value of an empty array is ambiguous. Returning False, but in future this will result in an error. Use `array.size > 0` to check that an array is not empty.\n",
      "  if diff:\n"
     ]
    },
    {
     "name": "stdout",
     "output_type": "stream",
     "text": [
      "Fitting 3 folds for each of 17 candidates, totalling 51 fits\n"
     ]
    },
    {
     "name": "stderr",
     "output_type": "stream",
     "text": [
      "[Parallel(n_jobs=-1)]: Done  16 tasks      | elapsed:  7.1min\n",
      "[Parallel(n_jobs=-1)]: Done  51 out of  51 | elapsed: 18.2min finished\n",
      "C:\\Users\\laure\\Anaconda3\\envs\\neuralsnets\\lib\\site-packages\\sklearn\\preprocessing\\label.py:151: DeprecationWarning: The truth value of an empty array is ambiguous. Returning False, but in future this will result in an error. Use `array.size > 0` to check that an array is not empty.\n",
      "  if diff:\n"
     ]
    },
    {
     "name": "stdout",
     "output_type": "stream",
     "text": [
      "Fitting 3 folds for each of 17 candidates, totalling 51 fits\n"
     ]
    },
    {
     "name": "stderr",
     "output_type": "stream",
     "text": [
      "[Parallel(n_jobs=-1)]: Done  16 tasks      | elapsed:  8.2min\n",
      "[Parallel(n_jobs=-1)]: Done  51 out of  51 | elapsed: 16.9min finished\n",
      "C:\\Users\\laure\\Anaconda3\\envs\\neuralsnets\\lib\\site-packages\\sklearn\\preprocessing\\label.py:151: DeprecationWarning: The truth value of an empty array is ambiguous. Returning False, but in future this will result in an error. Use `array.size > 0` to check that an array is not empty.\n",
      "  if diff:\n"
     ]
    },
    {
     "name": "stdout",
     "output_type": "stream",
     "text": [
      "Fitting 3 folds for each of 17 candidates, totalling 51 fits\n"
     ]
    },
    {
     "name": "stderr",
     "output_type": "stream",
     "text": [
      "[Parallel(n_jobs=-1)]: Done  16 tasks      | elapsed:  5.6min\n",
      "[Parallel(n_jobs=-1)]: Done  51 out of  51 | elapsed: 12.2min finished\n",
      "C:\\Users\\laure\\Anaconda3\\envs\\neuralsnets\\lib\\site-packages\\sklearn\\preprocessing\\label.py:151: DeprecationWarning: The truth value of an empty array is ambiguous. Returning False, but in future this will result in an error. Use `array.size > 0` to check that an array is not empty.\n",
      "  if diff:\n"
     ]
    },
    {
     "name": "stdout",
     "output_type": "stream",
     "text": [
      "Fitting 3 folds for each of 17 candidates, totalling 51 fits\n"
     ]
    },
    {
     "name": "stderr",
     "output_type": "stream",
     "text": [
      "[Parallel(n_jobs=-1)]: Done  16 tasks      | elapsed:  6.4min\n",
      "[Parallel(n_jobs=-1)]: Done  51 out of  51 | elapsed: 13.5min finished\n",
      "C:\\Users\\laure\\Anaconda3\\envs\\neuralsnets\\lib\\site-packages\\sklearn\\preprocessing\\label.py:151: DeprecationWarning: The truth value of an empty array is ambiguous. Returning False, but in future this will result in an error. Use `array.size > 0` to check that an array is not empty.\n",
      "  if diff:\n"
     ]
    },
    {
     "name": "stdout",
     "output_type": "stream",
     "text": [
      "\n",
      "##### Dataset size: 75\n",
      "--- Train Scores ---\n",
      "Recall: 0.5700000000000001\n",
      "Precision: 0.5700000000000001\n",
      "F1 score: 0.5700000000000001\n",
      "\n",
      "{'colsample_bylevel': 1, 'max_delta_step': 0, 'gamma': 0, 'booster': 'gbtree', 'learning_rate': 0.014267217149724946, 'max_depth': 8, 'missing': None, 'colsample_bytree': 0.9636961486182024, 'min_child_weight': 3, 'random_state': 0, 'seed': None, 'silent': True, 'subsample': 0.44726072030499253, 'n_estimators': 259, 'reg_lambda': 1, 'n_jobs': 1, 'scale_pos_weight': 1, 'reg_alpha': 0, 'base_score': 0.5, 'nthread': None, 'objective': 'multi:softprob'}\n",
      "\n"
     ]
    },
    {
     "name": "stderr",
     "output_type": "stream",
     "text": [
      "C:\\Users\\laure\\Anaconda3\\envs\\neuralsnets\\lib\\site-packages\\sklearn\\preprocessing\\label.py:151: DeprecationWarning: The truth value of an empty array is ambiguous. Returning False, but in future this will result in an error. Use `array.size > 0` to check that an array is not empty.\n",
      "  if diff:\n"
     ]
    },
    {
     "name": "stdout",
     "output_type": "stream",
     "text": [
      "{'colsample_bylevel': 1, 'max_delta_step': 0, 'gamma': 0, 'booster': 'gbtree', 'learning_rate': 0.016676428735626348, 'max_depth': 4, 'missing': None, 'colsample_bytree': 0.8653571366589501, 'min_child_weight': 1, 'random_state': 0, 'seed': None, 'silent': True, 'subsample': 0.5782287070972649, 'n_estimators': 373, 'reg_lambda': 1, 'n_jobs': 1, 'scale_pos_weight': 1, 'reg_alpha': 0, 'base_score': 0.5, 'nthread': None, 'objective': 'multi:softprob'}\n",
      "\n"
     ]
    },
    {
     "name": "stderr",
     "output_type": "stream",
     "text": [
      "C:\\Users\\laure\\Anaconda3\\envs\\neuralsnets\\lib\\site-packages\\sklearn\\preprocessing\\label.py:151: DeprecationWarning: The truth value of an empty array is ambiguous. Returning False, but in future this will result in an error. Use `array.size > 0` to check that an array is not empty.\n",
      "  if diff:\n"
     ]
    },
    {
     "name": "stdout",
     "output_type": "stream",
     "text": [
      "{'colsample_bylevel': 1, 'max_delta_step': 0, 'gamma': 0, 'booster': 'gbtree', 'learning_rate': 0.014445854363760948, 'max_depth': 7, 'missing': None, 'colsample_bytree': 0.87225305326961, 'min_child_weight': 3, 'random_state': 0, 'seed': None, 'silent': True, 'subsample': 0.6224936713994197, 'n_estimators': 251, 'reg_lambda': 1, 'n_jobs': 1, 'scale_pos_weight': 1, 'reg_alpha': 0, 'base_score': 0.5, 'nthread': None, 'objective': 'multi:softprob'}\n",
      "\n"
     ]
    },
    {
     "name": "stderr",
     "output_type": "stream",
     "text": [
      "C:\\Users\\laure\\Anaconda3\\envs\\neuralsnets\\lib\\site-packages\\sklearn\\preprocessing\\label.py:151: DeprecationWarning: The truth value of an empty array is ambiguous. Returning False, but in future this will result in an error. Use `array.size > 0` to check that an array is not empty.\n",
      "  if diff:\n"
     ]
    },
    {
     "name": "stdout",
     "output_type": "stream",
     "text": [
      "{'colsample_bylevel': 1, 'max_delta_step': 0, 'gamma': 0, 'booster': 'gbtree', 'learning_rate': 0.022864077120313575, 'max_depth': 5, 'missing': None, 'colsample_bytree': 0.8606687928967075, 'min_child_weight': 1, 'random_state': 0, 'seed': None, 'silent': True, 'subsample': 0.4199709827100402, 'n_estimators': 205, 'reg_lambda': 1, 'n_jobs': 1, 'scale_pos_weight': 1, 'reg_alpha': 0, 'base_score': 0.5, 'nthread': None, 'objective': 'multi:softprob'}\n",
      "\n"
     ]
    },
    {
     "name": "stderr",
     "output_type": "stream",
     "text": [
      "C:\\Users\\laure\\Anaconda3\\envs\\neuralsnets\\lib\\site-packages\\sklearn\\preprocessing\\label.py:151: DeprecationWarning: The truth value of an empty array is ambiguous. Returning False, but in future this will result in an error. Use `array.size > 0` to check that an array is not empty.\n",
      "  if diff:\n"
     ]
    },
    {
     "name": "stdout",
     "output_type": "stream",
     "text": [
      "{'colsample_bylevel': 1, 'max_delta_step': 0, 'gamma': 0, 'booster': 'gbtree', 'learning_rate': 0.026856604458871086, 'max_depth': 5, 'missing': None, 'colsample_bytree': 0.7502712267995948, 'min_child_weight': 2, 'random_state': 0, 'seed': None, 'silent': True, 'subsample': 0.42637427720912224, 'n_estimators': 364, 'reg_lambda': 1, 'n_jobs': 1, 'scale_pos_weight': 1, 'reg_alpha': 0, 'base_score': 0.5, 'nthread': None, 'objective': 'multi:softprob'}\n",
      "\n"
     ]
    },
    {
     "name": "stderr",
     "output_type": "stream",
     "text": [
      "C:\\Users\\laure\\Anaconda3\\envs\\neuralsnets\\lib\\site-packages\\sklearn\\preprocessing\\label.py:151: DeprecationWarning: The truth value of an empty array is ambiguous. Returning False, but in future this will result in an error. Use `array.size > 0` to check that an array is not empty.\n",
      "  if diff:\n"
     ]
    },
    {
     "name": "stdout",
     "output_type": "stream",
     "text": [
      "--- Test Scores ---\n",
      "Recall: 0.6266666666666667\n",
      "Precision: 0.6266666666666667\n",
      "F1 score: 0.6266666666666667\n",
      "\n",
      "Fitting 3 folds for each of 17 candidates, totalling 51 fits\n"
     ]
    },
    {
     "name": "stderr",
     "output_type": "stream",
     "text": [
      "[Parallel(n_jobs=-1)]: Done  16 tasks      | elapsed: 15.0min\n",
      "[Parallel(n_jobs=-1)]: Done  51 out of  51 | elapsed: 51.0min finished\n",
      "C:\\Users\\laure\\Anaconda3\\envs\\neuralsnets\\lib\\site-packages\\sklearn\\preprocessing\\label.py:151: DeprecationWarning: The truth value of an empty array is ambiguous. Returning False, but in future this will result in an error. Use `array.size > 0` to check that an array is not empty.\n",
      "  if diff:\n"
     ]
    },
    {
     "name": "stdout",
     "output_type": "stream",
     "text": [
      "Fitting 3 folds for each of 17 candidates, totalling 51 fits\n"
     ]
    },
    {
     "name": "stderr",
     "output_type": "stream",
     "text": [
      "[Parallel(n_jobs=-1)]: Done  16 tasks      | elapsed: 16.0min\n",
      "[Parallel(n_jobs=-1)]: Done  51 out of  51 | elapsed: 43.6min finished\n",
      "C:\\Users\\laure\\Anaconda3\\envs\\neuralsnets\\lib\\site-packages\\sklearn\\preprocessing\\label.py:151: DeprecationWarning: The truth value of an empty array is ambiguous. Returning False, but in future this will result in an error. Use `array.size > 0` to check that an array is not empty.\n",
      "  if diff:\n"
     ]
    },
    {
     "name": "stdout",
     "output_type": "stream",
     "text": [
      "Fitting 3 folds for each of 17 candidates, totalling 51 fits\n"
     ]
    },
    {
     "name": "stderr",
     "output_type": "stream",
     "text": [
      "[Parallel(n_jobs=-1)]: Done  16 tasks      | elapsed: 14.4min\n",
      "[Parallel(n_jobs=-1)]: Done  51 out of  51 | elapsed: 38.6min finished\n",
      "C:\\Users\\laure\\Anaconda3\\envs\\neuralsnets\\lib\\site-packages\\sklearn\\preprocessing\\label.py:151: DeprecationWarning: The truth value of an empty array is ambiguous. Returning False, but in future this will result in an error. Use `array.size > 0` to check that an array is not empty.\n",
      "  if diff:\n"
     ]
    },
    {
     "name": "stdout",
     "output_type": "stream",
     "text": [
      "Fitting 3 folds for each of 17 candidates, totalling 51 fits\n"
     ]
    },
    {
     "name": "stderr",
     "output_type": "stream",
     "text": [
      "[Parallel(n_jobs=-1)]: Done  16 tasks      | elapsed: 13.1min\n",
      "[Parallel(n_jobs=-1)]: Done  51 out of  51 | elapsed: 41.9min finished\n",
      "C:\\Users\\laure\\Anaconda3\\envs\\neuralsnets\\lib\\site-packages\\sklearn\\preprocessing\\label.py:151: DeprecationWarning: The truth value of an empty array is ambiguous. Returning False, but in future this will result in an error. Use `array.size > 0` to check that an array is not empty.\n",
      "  if diff:\n"
     ]
    },
    {
     "name": "stdout",
     "output_type": "stream",
     "text": [
      "Fitting 3 folds for each of 17 candidates, totalling 51 fits\n"
     ]
    },
    {
     "name": "stderr",
     "output_type": "stream",
     "text": [
      "[Parallel(n_jobs=-1)]: Done  16 tasks      | elapsed:  9.9min\n",
      "[Parallel(n_jobs=-1)]: Done  51 out of  51 | elapsed: 37.1min finished\n",
      "C:\\Users\\laure\\Anaconda3\\envs\\neuralsnets\\lib\\site-packages\\sklearn\\preprocessing\\label.py:151: DeprecationWarning: The truth value of an empty array is ambiguous. Returning False, but in future this will result in an error. Use `array.size > 0` to check that an array is not empty.\n",
      "  if diff:\n"
     ]
    },
    {
     "name": "stdout",
     "output_type": "stream",
     "text": [
      "\n",
      "##### Dataset size: 100\n",
      "--- Train Scores ---\n",
      "Recall: 0.5125\n",
      "Precision: 0.5125\n",
      "F1 score: 0.5125\n",
      "\n",
      "{'colsample_bylevel': 1, 'max_delta_step': 0, 'gamma': 0, 'booster': 'gbtree', 'learning_rate': 0.017791255060707358, 'max_depth': 5, 'missing': None, 'colsample_bytree': 0.9784418097807164, 'min_child_weight': 3, 'random_state': 0, 'seed': None, 'silent': True, 'subsample': 0.5978611300460737, 'n_estimators': 247, 'reg_lambda': 1, 'n_jobs': 1, 'scale_pos_weight': 1, 'reg_alpha': 0, 'base_score': 0.5, 'nthread': None, 'objective': 'multi:softprob'}\n",
      "\n"
     ]
    },
    {
     "name": "stderr",
     "output_type": "stream",
     "text": [
      "C:\\Users\\laure\\Anaconda3\\envs\\neuralsnets\\lib\\site-packages\\sklearn\\preprocessing\\label.py:151: DeprecationWarning: The truth value of an empty array is ambiguous. Returning False, but in future this will result in an error. Use `array.size > 0` to check that an array is not empty.\n",
      "  if diff:\n"
     ]
    },
    {
     "name": "stdout",
     "output_type": "stream",
     "text": [
      "{'colsample_bylevel': 1, 'max_delta_step': 0, 'gamma': 0, 'booster': 'gbtree', 'learning_rate': 0.022876886069150226, 'max_depth': 7, 'missing': None, 'colsample_bytree': 0.8735737219102728, 'min_child_weight': 1, 'random_state': 0, 'seed': None, 'silent': True, 'subsample': 0.6699835809235779, 'n_estimators': 239, 'reg_lambda': 1, 'n_jobs': 1, 'scale_pos_weight': 1, 'reg_alpha': 0, 'base_score': 0.5, 'nthread': None, 'objective': 'multi:softprob'}\n",
      "\n"
     ]
    },
    {
     "name": "stderr",
     "output_type": "stream",
     "text": [
      "C:\\Users\\laure\\Anaconda3\\envs\\neuralsnets\\lib\\site-packages\\sklearn\\preprocessing\\label.py:151: DeprecationWarning: The truth value of an empty array is ambiguous. Returning False, but in future this will result in an error. Use `array.size > 0` to check that an array is not empty.\n",
      "  if diff:\n"
     ]
    },
    {
     "name": "stdout",
     "output_type": "stream",
     "text": [
      "{'colsample_bylevel': 1, 'max_delta_step': 0, 'gamma': 0, 'booster': 'gbtree', 'learning_rate': 0.049290497891313664, 'max_depth': 8, 'missing': None, 'colsample_bytree': 0.8966993725401993, 'min_child_weight': 1, 'random_state': 0, 'seed': None, 'silent': True, 'subsample': 0.32943768180638816, 'n_estimators': 195, 'reg_lambda': 1, 'n_jobs': 1, 'scale_pos_weight': 1, 'reg_alpha': 0, 'base_score': 0.5, 'nthread': None, 'objective': 'multi:softprob'}\n",
      "\n"
     ]
    },
    {
     "name": "stderr",
     "output_type": "stream",
     "text": [
      "C:\\Users\\laure\\Anaconda3\\envs\\neuralsnets\\lib\\site-packages\\sklearn\\preprocessing\\label.py:151: DeprecationWarning: The truth value of an empty array is ambiguous. Returning False, but in future this will result in an error. Use `array.size > 0` to check that an array is not empty.\n",
      "  if diff:\n"
     ]
    },
    {
     "name": "stdout",
     "output_type": "stream",
     "text": [
      "{'colsample_bylevel': 1, 'max_delta_step': 0, 'gamma': 0, 'booster': 'gbtree', 'learning_rate': 0.06790696859732619, 'max_depth': 3, 'missing': None, 'colsample_bytree': 0.8098536899153315, 'min_child_weight': 1, 'random_state': 0, 'seed': None, 'silent': True, 'subsample': 0.36560131193896805, 'n_estimators': 455, 'reg_lambda': 1, 'n_jobs': 1, 'scale_pos_weight': 1, 'reg_alpha': 0, 'base_score': 0.5, 'nthread': None, 'objective': 'multi:softprob'}\n",
      "\n"
     ]
    },
    {
     "name": "stderr",
     "output_type": "stream",
     "text": [
      "C:\\Users\\laure\\Anaconda3\\envs\\neuralsnets\\lib\\site-packages\\sklearn\\preprocessing\\label.py:151: DeprecationWarning: The truth value of an empty array is ambiguous. Returning False, but in future this will result in an error. Use `array.size > 0` to check that an array is not empty.\n",
      "  if diff:\n"
     ]
    },
    {
     "name": "stdout",
     "output_type": "stream",
     "text": [
      "{'colsample_bylevel': 1, 'max_delta_step': 0, 'gamma': 0, 'booster': 'gbtree', 'learning_rate': 0.016380625069610848, 'max_depth': 6, 'missing': None, 'colsample_bytree': 0.7569736050495695, 'min_child_weight': 1, 'random_state': 0, 'seed': None, 'silent': True, 'subsample': 0.3812279212128759, 'n_estimators': 293, 'reg_lambda': 1, 'n_jobs': 1, 'scale_pos_weight': 1, 'reg_alpha': 0, 'base_score': 0.5, 'nthread': None, 'objective': 'multi:softprob'}\n",
      "\n"
     ]
    },
    {
     "name": "stderr",
     "output_type": "stream",
     "text": [
      "C:\\Users\\laure\\Anaconda3\\envs\\neuralsnets\\lib\\site-packages\\sklearn\\preprocessing\\label.py:151: DeprecationWarning: The truth value of an empty array is ambiguous. Returning False, but in future this will result in an error. Use `array.size > 0` to check that an array is not empty.\n",
      "  if diff:\n"
     ]
    },
    {
     "name": "stdout",
     "output_type": "stream",
     "text": [
      "--- Test Scores ---\n",
      "Recall: 0.56\n",
      "Precision: 0.56\n",
      "F1 score: 0.56\n",
      "\n",
      "Fitting 3 folds for each of 17 candidates, totalling 51 fits\n"
     ]
    },
    {
     "name": "stderr",
     "output_type": "stream",
     "text": [
      "[Parallel(n_jobs=-1)]: Done  16 tasks      | elapsed: 22.8min\n",
      "[Parallel(n_jobs=-1)]: Done  51 out of  51 | elapsed: 81.8min finished\n",
      "C:\\Users\\laure\\Anaconda3\\envs\\neuralsnets\\lib\\site-packages\\sklearn\\preprocessing\\label.py:151: DeprecationWarning: The truth value of an empty array is ambiguous. Returning False, but in future this will result in an error. Use `array.size > 0` to check that an array is not empty.\n",
      "  if diff:\n"
     ]
    },
    {
     "name": "stdout",
     "output_type": "stream",
     "text": [
      "Fitting 3 folds for each of 17 candidates, totalling 51 fits\n"
     ]
    },
    {
     "name": "stderr",
     "output_type": "stream",
     "text": [
      "[Parallel(n_jobs=-1)]: Done  16 tasks      | elapsed: 22.0min\n",
      "[Parallel(n_jobs=-1)]: Done  51 out of  51 | elapsed: 81.1min finished\n",
      "C:\\Users\\laure\\Anaconda3\\envs\\neuralsnets\\lib\\site-packages\\sklearn\\preprocessing\\label.py:151: DeprecationWarning: The truth value of an empty array is ambiguous. Returning False, but in future this will result in an error. Use `array.size > 0` to check that an array is not empty.\n",
      "  if diff:\n"
     ]
    },
    {
     "name": "stdout",
     "output_type": "stream",
     "text": [
      "Fitting 3 folds for each of 17 candidates, totalling 51 fits\n"
     ]
    },
    {
     "name": "stderr",
     "output_type": "stream",
     "text": [
      "[Parallel(n_jobs=-1)]: Done  16 tasks      | elapsed: 32.4min\n",
      "[Parallel(n_jobs=-1)]: Done  51 out of  51 | elapsed: 88.5min finished\n",
      "C:\\Users\\laure\\Anaconda3\\envs\\neuralsnets\\lib\\site-packages\\sklearn\\preprocessing\\label.py:151: DeprecationWarning: The truth value of an empty array is ambiguous. Returning False, but in future this will result in an error. Use `array.size > 0` to check that an array is not empty.\n",
      "  if diff:\n"
     ]
    },
    {
     "name": "stdout",
     "output_type": "stream",
     "text": [
      "Fitting 3 folds for each of 17 candidates, totalling 51 fits\n"
     ]
    },
    {
     "name": "stderr",
     "output_type": "stream",
     "text": [
      "[Parallel(n_jobs=-1)]: Done  16 tasks      | elapsed: 33.6min\n",
      "[Parallel(n_jobs=-1)]: Done  51 out of  51 | elapsed: 90.4min finished\n",
      "C:\\Users\\laure\\Anaconda3\\envs\\neuralsnets\\lib\\site-packages\\sklearn\\preprocessing\\label.py:151: DeprecationWarning: The truth value of an empty array is ambiguous. Returning False, but in future this will result in an error. Use `array.size > 0` to check that an array is not empty.\n",
      "  if diff:\n"
     ]
    },
    {
     "name": "stdout",
     "output_type": "stream",
     "text": [
      "Fitting 3 folds for each of 17 candidates, totalling 51 fits\n"
     ]
    },
    {
     "name": "stderr",
     "output_type": "stream",
     "text": [
      "[Parallel(n_jobs=-1)]: Done  16 tasks      | elapsed: 30.0min\n",
      "[Parallel(n_jobs=-1)]: Done  51 out of  51 | elapsed: 95.9min finished\n",
      "C:\\Users\\laure\\Anaconda3\\envs\\neuralsnets\\lib\\site-packages\\sklearn\\preprocessing\\label.py:151: DeprecationWarning: The truth value of an empty array is ambiguous. Returning False, but in future this will result in an error. Use `array.size > 0` to check that an array is not empty.\n",
      "  if diff:\n"
     ]
    },
    {
     "name": "stdout",
     "output_type": "stream",
     "text": [
      "\n",
      "##### Dataset size: 125\n",
      "--- Train Scores ---\n",
      "Recall: 0.5644444444444444\n",
      "Precision: 0.5644444444444444\n",
      "F1 score: 0.5644444444444444\n",
      "\n",
      "{'colsample_bylevel': 1, 'max_delta_step': 0, 'gamma': 0, 'booster': 'gbtree', 'learning_rate': 0.031990462490535, 'max_depth': 8, 'missing': None, 'colsample_bytree': 0.9614897902158807, 'min_child_weight': 1, 'random_state': 0, 'seed': None, 'silent': True, 'subsample': 0.5606349463434506, 'n_estimators': 267, 'reg_lambda': 1, 'n_jobs': 1, 'scale_pos_weight': 1, 'reg_alpha': 0, 'base_score': 0.5, 'nthread': None, 'objective': 'multi:softprob'}\n",
      "\n"
     ]
    },
    {
     "name": "stderr",
     "output_type": "stream",
     "text": [
      "C:\\Users\\laure\\Anaconda3\\envs\\neuralsnets\\lib\\site-packages\\sklearn\\preprocessing\\label.py:151: DeprecationWarning: The truth value of an empty array is ambiguous. Returning False, but in future this will result in an error. Use `array.size > 0` to check that an array is not empty.\n",
      "  if diff:\n"
     ]
    },
    {
     "name": "stdout",
     "output_type": "stream",
     "text": [
      "{'colsample_bylevel': 1, 'max_delta_step': 0, 'gamma': 0, 'booster': 'gbtree', 'learning_rate': 0.010130476419541871, 'max_depth': 3, 'missing': None, 'colsample_bytree': 0.9008110174631943, 'min_child_weight': 2, 'random_state': 0, 'seed': None, 'silent': True, 'subsample': 0.8227001877853846, 'n_estimators': 443, 'reg_lambda': 1, 'n_jobs': 1, 'scale_pos_weight': 1, 'reg_alpha': 0, 'base_score': 0.5, 'nthread': None, 'objective': 'multi:softprob'}\n",
      "\n"
     ]
    },
    {
     "name": "stderr",
     "output_type": "stream",
     "text": [
      "C:\\Users\\laure\\Anaconda3\\envs\\neuralsnets\\lib\\site-packages\\sklearn\\preprocessing\\label.py:151: DeprecationWarning: The truth value of an empty array is ambiguous. Returning False, but in future this will result in an error. Use `array.size > 0` to check that an array is not empty.\n",
      "  if diff:\n"
     ]
    },
    {
     "name": "stdout",
     "output_type": "stream",
     "text": [
      "{'colsample_bylevel': 1, 'max_delta_step': 0, 'gamma': 0, 'booster': 'gbtree', 'learning_rate': 0.04062897554363318, 'max_depth': 3, 'missing': None, 'colsample_bytree': 0.8307941395436349, 'min_child_weight': 1, 'random_state': 0, 'seed': None, 'silent': True, 'subsample': 0.4415782814043717, 'n_estimators': 158, 'reg_lambda': 1, 'n_jobs': 1, 'scale_pos_weight': 1, 'reg_alpha': 0, 'base_score': 0.5, 'nthread': None, 'objective': 'multi:softprob'}\n",
      "\n"
     ]
    },
    {
     "name": "stderr",
     "output_type": "stream",
     "text": [
      "C:\\Users\\laure\\Anaconda3\\envs\\neuralsnets\\lib\\site-packages\\sklearn\\preprocessing\\label.py:151: DeprecationWarning: The truth value of an empty array is ambiguous. Returning False, but in future this will result in an error. Use `array.size > 0` to check that an array is not empty.\n",
      "  if diff:\n"
     ]
    },
    {
     "name": "stdout",
     "output_type": "stream",
     "text": [
      "{'colsample_bylevel': 1, 'max_delta_step': 0, 'gamma': 0, 'booster': 'gbtree', 'learning_rate': 0.014254752171383552, 'max_depth': 3, 'missing': None, 'colsample_bytree': 0.9694560256592999, 'min_child_weight': 2, 'random_state': 0, 'seed': None, 'silent': True, 'subsample': 0.6860350921209561, 'n_estimators': 397, 'reg_lambda': 1, 'n_jobs': 1, 'scale_pos_weight': 1, 'reg_alpha': 0, 'base_score': 0.5, 'nthread': None, 'objective': 'multi:softprob'}\n",
      "\n"
     ]
    },
    {
     "name": "stderr",
     "output_type": "stream",
     "text": [
      "C:\\Users\\laure\\Anaconda3\\envs\\neuralsnets\\lib\\site-packages\\sklearn\\preprocessing\\label.py:151: DeprecationWarning: The truth value of an empty array is ambiguous. Returning False, but in future this will result in an error. Use `array.size > 0` to check that an array is not empty.\n",
      "  if diff:\n"
     ]
    },
    {
     "name": "stdout",
     "output_type": "stream",
     "text": [
      "{'colsample_bylevel': 1, 'max_delta_step': 0, 'gamma': 0, 'booster': 'gbtree', 'learning_rate': 0.04387493260219336, 'max_depth': 7, 'missing': None, 'colsample_bytree': 0.775062147196266, 'min_child_weight': 1, 'random_state': 0, 'seed': None, 'silent': True, 'subsample': 0.4142388500801619, 'n_estimators': 224, 'reg_lambda': 1, 'n_jobs': 1, 'scale_pos_weight': 1, 'reg_alpha': 0, 'base_score': 0.5, 'nthread': None, 'objective': 'multi:softprob'}\n",
      "\n"
     ]
    },
    {
     "name": "stderr",
     "output_type": "stream",
     "text": [
      "C:\\Users\\laure\\Anaconda3\\envs\\neuralsnets\\lib\\site-packages\\sklearn\\preprocessing\\label.py:151: DeprecationWarning: The truth value of an empty array is ambiguous. Returning False, but in future this will result in an error. Use `array.size > 0` to check that an array is not empty.\n",
      "  if diff:\n"
     ]
    },
    {
     "name": "stdout",
     "output_type": "stream",
     "text": [
      "--- Test Scores ---\n",
      "Recall: 0.6048\n",
      "Precision: 0.6048\n",
      "F1 score: 0.6048\n",
      "\n",
      "Fitting 3 folds for each of 17 candidates, totalling 51 fits\n"
     ]
    },
    {
     "name": "stderr",
     "output_type": "stream",
     "text": [
      "[Parallel(n_jobs=-1)]: Done  16 tasks      | elapsed: 57.0min\n",
      "[Parallel(n_jobs=-1)]: Done  51 out of  51 | elapsed: 169.7min finished\n",
      "C:\\Users\\laure\\Anaconda3\\envs\\neuralsnets\\lib\\site-packages\\sklearn\\preprocessing\\label.py:151: DeprecationWarning: The truth value of an empty array is ambiguous. Returning False, but in future this will result in an error. Use `array.size > 0` to check that an array is not empty.\n",
      "  if diff:\n"
     ]
    },
    {
     "name": "stdout",
     "output_type": "stream",
     "text": [
      "Fitting 3 folds for each of 17 candidates, totalling 51 fits\n"
     ]
    },
    {
     "name": "stderr",
     "output_type": "stream",
     "text": [
      "[Parallel(n_jobs=-1)]: Done  16 tasks      | elapsed: 41.2min\n",
      "[Parallel(n_jobs=-1)]: Done  51 out of  51 | elapsed: 133.8min finished\n",
      "C:\\Users\\laure\\Anaconda3\\envs\\neuralsnets\\lib\\site-packages\\sklearn\\preprocessing\\label.py:151: DeprecationWarning: The truth value of an empty array is ambiguous. Returning False, but in future this will result in an error. Use `array.size > 0` to check that an array is not empty.\n",
      "  if diff:\n"
     ]
    },
    {
     "name": "stdout",
     "output_type": "stream",
     "text": [
      "Fitting 3 folds for each of 17 candidates, totalling 51 fits\n"
     ]
    },
    {
     "name": "stderr",
     "output_type": "stream",
     "text": [
      "[Parallel(n_jobs=-1)]: Done  16 tasks      | elapsed: 64.7min\n",
      "[Parallel(n_jobs=-1)]: Done  51 out of  51 | elapsed: 160.6min finished\n",
      "C:\\Users\\laure\\Anaconda3\\envs\\neuralsnets\\lib\\site-packages\\sklearn\\preprocessing\\label.py:151: DeprecationWarning: The truth value of an empty array is ambiguous. Returning False, but in future this will result in an error. Use `array.size > 0` to check that an array is not empty.\n",
      "  if diff:\n"
     ]
    },
    {
     "name": "stdout",
     "output_type": "stream",
     "text": [
      "Fitting 3 folds for each of 17 candidates, totalling 51 fits\n"
     ]
    },
    {
     "name": "stderr",
     "output_type": "stream",
     "text": [
      "[Parallel(n_jobs=-1)]: Done  16 tasks      | elapsed: 45.0min\n",
      "[Parallel(n_jobs=-1)]: Done  51 out of  51 | elapsed: 127.9min finished\n",
      "C:\\Users\\laure\\Anaconda3\\envs\\neuralsnets\\lib\\site-packages\\sklearn\\preprocessing\\label.py:151: DeprecationWarning: The truth value of an empty array is ambiguous. Returning False, but in future this will result in an error. Use `array.size > 0` to check that an array is not empty.\n",
      "  if diff:\n"
     ]
    },
    {
     "name": "stdout",
     "output_type": "stream",
     "text": [
      "Fitting 3 folds for each of 17 candidates, totalling 51 fits\n"
     ]
    },
    {
     "name": "stderr",
     "output_type": "stream",
     "text": [
      "[Parallel(n_jobs=-1)]: Done  16 tasks      | elapsed: 31.8min\n",
      "[Parallel(n_jobs=-1)]: Done  51 out of  51 | elapsed: 126.5min finished\n",
      "C:\\Users\\laure\\Anaconda3\\envs\\neuralsnets\\lib\\site-packages\\sklearn\\preprocessing\\label.py:151: DeprecationWarning: The truth value of an empty array is ambiguous. Returning False, but in future this will result in an error. Use `array.size > 0` to check that an array is not empty.\n",
      "  if diff:\n"
     ]
    },
    {
     "name": "stdout",
     "output_type": "stream",
     "text": [
      "\n",
      "##### Dataset size: 150\n",
      "--- Train Scores ---\n",
      "Recall: 0.5392592592592592\n",
      "Precision: 0.5392592592592592\n",
      "F1 score: 0.5392592592592592\n",
      "\n",
      "{'colsample_bylevel': 1, 'max_delta_step': 0, 'gamma': 0, 'booster': 'gbtree', 'learning_rate': 0.010056944916795664, 'max_depth': 6, 'missing': None, 'colsample_bytree': 0.6350487864963332, 'min_child_weight': 2, 'random_state': 0, 'seed': None, 'silent': True, 'subsample': 0.6378259688806085, 'n_estimators': 499, 'reg_lambda': 1, 'n_jobs': 1, 'scale_pos_weight': 1, 'reg_alpha': 0, 'base_score': 0.5, 'nthread': None, 'objective': 'multi:softprob'}\n",
      "\n"
     ]
    },
    {
     "name": "stderr",
     "output_type": "stream",
     "text": [
      "C:\\Users\\laure\\Anaconda3\\envs\\neuralsnets\\lib\\site-packages\\sklearn\\preprocessing\\label.py:151: DeprecationWarning: The truth value of an empty array is ambiguous. Returning False, but in future this will result in an error. Use `array.size > 0` to check that an array is not empty.\n",
      "  if diff:\n"
     ]
    },
    {
     "name": "stdout",
     "output_type": "stream",
     "text": [
      "{'colsample_bylevel': 1, 'max_delta_step': 0, 'gamma': 0, 'booster': 'gbtree', 'learning_rate': 0.025756810293750654, 'max_depth': 6, 'missing': None, 'colsample_bytree': 0.8689889725546441, 'min_child_weight': 2, 'random_state': 0, 'seed': None, 'silent': True, 'subsample': 0.435667606415079, 'n_estimators': 232, 'reg_lambda': 1, 'n_jobs': 1, 'scale_pos_weight': 1, 'reg_alpha': 0, 'base_score': 0.5, 'nthread': None, 'objective': 'multi:softprob'}\n",
      "\n"
     ]
    },
    {
     "name": "stderr",
     "output_type": "stream",
     "text": [
      "C:\\Users\\laure\\Anaconda3\\envs\\neuralsnets\\lib\\site-packages\\sklearn\\preprocessing\\label.py:151: DeprecationWarning: The truth value of an empty array is ambiguous. Returning False, but in future this will result in an error. Use `array.size > 0` to check that an array is not empty.\n",
      "  if diff:\n"
     ]
    },
    {
     "name": "stdout",
     "output_type": "stream",
     "text": [
      "{'colsample_bylevel': 1, 'max_delta_step': 0, 'gamma': 0, 'booster': 'gbtree', 'learning_rate': 0.02577172057155879, 'max_depth': 4, 'missing': None, 'colsample_bytree': 0.780234171568769, 'min_child_weight': 1, 'random_state': 0, 'seed': None, 'silent': True, 'subsample': 0.5765799523975753, 'n_estimators': 453, 'reg_lambda': 1, 'n_jobs': 1, 'scale_pos_weight': 1, 'reg_alpha': 0, 'base_score': 0.5, 'nthread': None, 'objective': 'multi:softprob'}\n",
      "\n"
     ]
    },
    {
     "name": "stderr",
     "output_type": "stream",
     "text": [
      "C:\\Users\\laure\\Anaconda3\\envs\\neuralsnets\\lib\\site-packages\\sklearn\\preprocessing\\label.py:151: DeprecationWarning: The truth value of an empty array is ambiguous. Returning False, but in future this will result in an error. Use `array.size > 0` to check that an array is not empty.\n",
      "  if diff:\n"
     ]
    },
    {
     "name": "stdout",
     "output_type": "stream",
     "text": [
      "{'colsample_bylevel': 1, 'max_delta_step': 0, 'gamma': 0, 'booster': 'gbtree', 'learning_rate': 0.023343424982045058, 'max_depth': 6, 'missing': None, 'colsample_bytree': 0.9041222481068021, 'min_child_weight': 2, 'random_state': 0, 'seed': None, 'silent': True, 'subsample': 0.36720522553293744, 'n_estimators': 448, 'reg_lambda': 1, 'n_jobs': 1, 'scale_pos_weight': 1, 'reg_alpha': 0, 'base_score': 0.5, 'nthread': None, 'objective': 'multi:softprob'}\n",
      "\n"
     ]
    },
    {
     "name": "stderr",
     "output_type": "stream",
     "text": [
      "C:\\Users\\laure\\Anaconda3\\envs\\neuralsnets\\lib\\site-packages\\sklearn\\preprocessing\\label.py:151: DeprecationWarning: The truth value of an empty array is ambiguous. Returning False, but in future this will result in an error. Use `array.size > 0` to check that an array is not empty.\n",
      "  if diff:\n"
     ]
    },
    {
     "name": "stdout",
     "output_type": "stream",
     "text": [
      "{'colsample_bylevel': 1, 'max_delta_step': 0, 'gamma': 0, 'booster': 'gbtree', 'learning_rate': 0.03281824857243469, 'max_depth': 3, 'missing': None, 'colsample_bytree': 0.9762726314496579, 'min_child_weight': 1, 'random_state': 0, 'seed': None, 'silent': True, 'subsample': 0.345371953056404, 'n_estimators': 282, 'reg_lambda': 1, 'n_jobs': 1, 'scale_pos_weight': 1, 'reg_alpha': 0, 'base_score': 0.5, 'nthread': None, 'objective': 'multi:softprob'}\n",
      "\n"
     ]
    },
    {
     "name": "stderr",
     "output_type": "stream",
     "text": [
      "C:\\Users\\laure\\Anaconda3\\envs\\neuralsnets\\lib\\site-packages\\sklearn\\preprocessing\\label.py:151: DeprecationWarning: The truth value of an empty array is ambiguous. Returning False, but in future this will result in an error. Use `array.size > 0` to check that an array is not empty.\n",
      "  if diff:\n"
     ]
    },
    {
     "name": "stdout",
     "output_type": "stream",
     "text": [
      "--- Test Scores ---\n",
      "Recall: 0.5586666666666666\n",
      "Precision: 0.5586666666666666\n",
      "F1 score: 0.5586666666666666\n",
      "\n",
      "Fitting 3 folds for each of 17 candidates, totalling 51 fits\n"
     ]
    },
    {
     "name": "stderr",
     "output_type": "stream",
     "text": [
      "[Parallel(n_jobs=-1)]: Done  16 tasks      | elapsed: 52.7min\n",
      "[Parallel(n_jobs=-1)]: Done  51 out of  51 | elapsed: 195.0min finished\n",
      "C:\\Users\\laure\\Anaconda3\\envs\\neuralsnets\\lib\\site-packages\\sklearn\\preprocessing\\label.py:151: DeprecationWarning: The truth value of an empty array is ambiguous. Returning False, but in future this will result in an error. Use `array.size > 0` to check that an array is not empty.\n",
      "  if diff:\n"
     ]
    },
    {
     "name": "stdout",
     "output_type": "stream",
     "text": [
      "Fitting 3 folds for each of 17 candidates, totalling 51 fits\n"
     ]
    },
    {
     "name": "stderr",
     "output_type": "stream",
     "text": [
      "[Parallel(n_jobs=-1)]: Done  16 tasks      | elapsed: 55.1min\n",
      "[Parallel(n_jobs=-1)]: Done  51 out of  51 | elapsed: 190.3min finished\n",
      "C:\\Users\\laure\\Anaconda3\\envs\\neuralsnets\\lib\\site-packages\\sklearn\\preprocessing\\label.py:151: DeprecationWarning: The truth value of an empty array is ambiguous. Returning False, but in future this will result in an error. Use `array.size > 0` to check that an array is not empty.\n",
      "  if diff:\n"
     ]
    },
    {
     "name": "stdout",
     "output_type": "stream",
     "text": [
      "Fitting 3 folds for each of 17 candidates, totalling 51 fits\n"
     ]
    },
    {
     "name": "stderr",
     "output_type": "stream",
     "text": [
      "[Parallel(n_jobs=-1)]: Done  16 tasks      | elapsed: 98.3min\n",
      "[Parallel(n_jobs=-1)]: Done  51 out of  51 | elapsed: 221.4min finished\n",
      "C:\\Users\\laure\\Anaconda3\\envs\\neuralsnets\\lib\\site-packages\\sklearn\\preprocessing\\label.py:151: DeprecationWarning: The truth value of an empty array is ambiguous. Returning False, but in future this will result in an error. Use `array.size > 0` to check that an array is not empty.\n",
      "  if diff:\n"
     ]
    },
    {
     "name": "stdout",
     "output_type": "stream",
     "text": [
      "Fitting 3 folds for each of 17 candidates, totalling 51 fits\n"
     ]
    },
    {
     "name": "stderr",
     "output_type": "stream",
     "text": [
      "[Parallel(n_jobs=-1)]: Done  16 tasks      | elapsed: 75.3min\n",
      "[Parallel(n_jobs=-1)]: Done  51 out of  51 | elapsed: 199.0min finished\n",
      "C:\\Users\\laure\\Anaconda3\\envs\\neuralsnets\\lib\\site-packages\\sklearn\\preprocessing\\label.py:151: DeprecationWarning: The truth value of an empty array is ambiguous. Returning False, but in future this will result in an error. Use `array.size > 0` to check that an array is not empty.\n",
      "  if diff:\n"
     ]
    },
    {
     "name": "stdout",
     "output_type": "stream",
     "text": [
      "Fitting 3 folds for each of 17 candidates, totalling 51 fits\n"
     ]
    },
    {
     "name": "stderr",
     "output_type": "stream",
     "text": [
      "[Parallel(n_jobs=-1)]: Done  16 tasks      | elapsed: 61.7min\n",
      "[Parallel(n_jobs=-1)]: Done  51 out of  51 | elapsed: 207.8min finished\n",
      "C:\\Users\\laure\\Anaconda3\\envs\\neuralsnets\\lib\\site-packages\\sklearn\\preprocessing\\label.py:151: DeprecationWarning: The truth value of an empty array is ambiguous. Returning False, but in future this will result in an error. Use `array.size > 0` to check that an array is not empty.\n",
      "  if diff:\n"
     ]
    },
    {
     "name": "stdout",
     "output_type": "stream",
     "text": [
      "\n",
      "##### Dataset size: 175\n",
      "--- Train Scores ---\n",
      "Recall: 0.552063492063492\n",
      "Precision: 0.552063492063492\n",
      "F1 score: 0.552063492063492\n",
      "\n",
      "{'colsample_bylevel': 1, 'max_delta_step': 0, 'gamma': 0, 'booster': 'gbtree', 'learning_rate': 0.012792281575922656, 'max_depth': 8, 'missing': None, 'colsample_bytree': 0.971415125617265, 'min_child_weight': 2, 'random_state': 0, 'seed': None, 'silent': True, 'subsample': 0.5712307202249747, 'n_estimators': 433, 'reg_lambda': 1, 'n_jobs': 1, 'scale_pos_weight': 1, 'reg_alpha': 0, 'base_score': 0.5, 'nthread': None, 'objective': 'multi:softprob'}\n",
      "\n"
     ]
    },
    {
     "name": "stderr",
     "output_type": "stream",
     "text": [
      "C:\\Users\\laure\\Anaconda3\\envs\\neuralsnets\\lib\\site-packages\\sklearn\\preprocessing\\label.py:151: DeprecationWarning: The truth value of an empty array is ambiguous. Returning False, but in future this will result in an error. Use `array.size > 0` to check that an array is not empty.\n",
      "  if diff:\n"
     ]
    },
    {
     "name": "stdout",
     "output_type": "stream",
     "text": [
      "{'colsample_bylevel': 1, 'max_delta_step': 0, 'gamma': 0, 'booster': 'gbtree', 'learning_rate': 0.025719795828787716, 'max_depth': 5, 'missing': None, 'colsample_bytree': 0.9267271557462041, 'min_child_weight': 2, 'random_state': 0, 'seed': None, 'silent': True, 'subsample': 0.6457234398769626, 'n_estimators': 367, 'reg_lambda': 1, 'n_jobs': 1, 'scale_pos_weight': 1, 'reg_alpha': 0, 'base_score': 0.5, 'nthread': None, 'objective': 'multi:softprob'}\n",
      "\n"
     ]
    },
    {
     "name": "stderr",
     "output_type": "stream",
     "text": [
      "C:\\Users\\laure\\Anaconda3\\envs\\neuralsnets\\lib\\site-packages\\sklearn\\preprocessing\\label.py:151: DeprecationWarning: The truth value of an empty array is ambiguous. Returning False, but in future this will result in an error. Use `array.size > 0` to check that an array is not empty.\n",
      "  if diff:\n"
     ]
    },
    {
     "name": "stdout",
     "output_type": "stream",
     "text": [
      "{'colsample_bylevel': 1, 'max_delta_step': 0, 'gamma': 0, 'booster': 'gbtree', 'learning_rate': 0.021988883955611736, 'max_depth': 8, 'missing': None, 'colsample_bytree': 0.9715922963128467, 'min_child_weight': 1, 'random_state': 0, 'seed': None, 'silent': True, 'subsample': 0.3559746798125136, 'n_estimators': 216, 'reg_lambda': 1, 'n_jobs': 1, 'scale_pos_weight': 1, 'reg_alpha': 0, 'base_score': 0.5, 'nthread': None, 'objective': 'multi:softprob'}\n",
      "\n"
     ]
    },
    {
     "name": "stderr",
     "output_type": "stream",
     "text": [
      "C:\\Users\\laure\\Anaconda3\\envs\\neuralsnets\\lib\\site-packages\\sklearn\\preprocessing\\label.py:151: DeprecationWarning: The truth value of an empty array is ambiguous. Returning False, but in future this will result in an error. Use `array.size > 0` to check that an array is not empty.\n",
      "  if diff:\n"
     ]
    },
    {
     "name": "stdout",
     "output_type": "stream",
     "text": [
      "{'colsample_bylevel': 1, 'max_delta_step': 0, 'gamma': 0, 'booster': 'gbtree', 'learning_rate': 0.024954630708975925, 'max_depth': 9, 'missing': None, 'colsample_bytree': 0.9401034058742163, 'min_child_weight': 1, 'random_state': 0, 'seed': None, 'silent': True, 'subsample': 0.36203304569437267, 'n_estimators': 434, 'reg_lambda': 1, 'n_jobs': 1, 'scale_pos_weight': 1, 'reg_alpha': 0, 'base_score': 0.5, 'nthread': None, 'objective': 'multi:softprob'}\n",
      "\n"
     ]
    },
    {
     "name": "stderr",
     "output_type": "stream",
     "text": [
      "C:\\Users\\laure\\Anaconda3\\envs\\neuralsnets\\lib\\site-packages\\sklearn\\preprocessing\\label.py:151: DeprecationWarning: The truth value of an empty array is ambiguous. Returning False, but in future this will result in an error. Use `array.size > 0` to check that an array is not empty.\n",
      "  if diff:\n"
     ]
    },
    {
     "name": "stdout",
     "output_type": "stream",
     "text": [
      "{'colsample_bylevel': 1, 'max_delta_step': 0, 'gamma': 0, 'booster': 'gbtree', 'learning_rate': 0.01859253123503813, 'max_depth': 5, 'missing': None, 'colsample_bytree': 0.6440241198250803, 'min_child_weight': 2, 'random_state': 0, 'seed': None, 'silent': True, 'subsample': 0.6115091809132752, 'n_estimators': 207, 'reg_lambda': 1, 'n_jobs': 1, 'scale_pos_weight': 1, 'reg_alpha': 0, 'base_score': 0.5, 'nthread': None, 'objective': 'multi:softprob'}\n",
      "\n"
     ]
    },
    {
     "name": "stderr",
     "output_type": "stream",
     "text": [
      "C:\\Users\\laure\\Anaconda3\\envs\\neuralsnets\\lib\\site-packages\\sklearn\\preprocessing\\label.py:151: DeprecationWarning: The truth value of an empty array is ambiguous. Returning False, but in future this will result in an error. Use `array.size > 0` to check that an array is not empty.\n",
      "  if diff:\n"
     ]
    },
    {
     "name": "stdout",
     "output_type": "stream",
     "text": [
      "--- Test Scores ---\n",
      "Recall: 0.6062857142857143\n",
      "Precision: 0.6062857142857143\n",
      "F1 score: 0.6062857142857143\n",
      "\n",
      "Fitting 3 folds for each of 17 candidates, totalling 51 fits\n"
     ]
    },
    {
     "name": "stderr",
     "output_type": "stream",
     "text": [
      "[Parallel(n_jobs=-1)]: Done  16 tasks      | elapsed: 117.2min\n",
      "[Parallel(n_jobs=-1)]: Done  51 out of  51 | elapsed: 307.5min finished\n",
      "C:\\Users\\laure\\Anaconda3\\envs\\neuralsnets\\lib\\site-packages\\sklearn\\preprocessing\\label.py:151: DeprecationWarning: The truth value of an empty array is ambiguous. Returning False, but in future this will result in an error. Use `array.size > 0` to check that an array is not empty.\n",
      "  if diff:\n"
     ]
    },
    {
     "name": "stdout",
     "output_type": "stream",
     "text": [
      "Fitting 3 folds for each of 17 candidates, totalling 51 fits\n"
     ]
    },
    {
     "name": "stderr",
     "output_type": "stream",
     "text": [
      "[Parallel(n_jobs=-1)]: Done  16 tasks      | elapsed: 166.0min\n",
      "[Parallel(n_jobs=-1)]: Done  51 out of  51 | elapsed: 479.5min finished\n",
      "C:\\Users\\laure\\Anaconda3\\envs\\neuralsnets\\lib\\site-packages\\sklearn\\preprocessing\\label.py:151: DeprecationWarning: The truth value of an empty array is ambiguous. Returning False, but in future this will result in an error. Use `array.size > 0` to check that an array is not empty.\n",
      "  if diff:\n"
     ]
    },
    {
     "name": "stdout",
     "output_type": "stream",
     "text": [
      "Fitting 3 folds for each of 17 candidates, totalling 51 fits\n"
     ]
    },
    {
     "name": "stderr",
     "output_type": "stream",
     "text": [
      "[Parallel(n_jobs=-1)]: Done  16 tasks      | elapsed: 136.7min\n",
      "[Parallel(n_jobs=-1)]: Done  51 out of  51 | elapsed: 327.4min finished\n",
      "C:\\Users\\laure\\Anaconda3\\envs\\neuralsnets\\lib\\site-packages\\sklearn\\preprocessing\\label.py:151: DeprecationWarning: The truth value of an empty array is ambiguous. Returning False, but in future this will result in an error. Use `array.size > 0` to check that an array is not empty.\n",
      "  if diff:\n"
     ]
    },
    {
     "name": "stdout",
     "output_type": "stream",
     "text": [
      "Fitting 3 folds for each of 17 candidates, totalling 51 fits\n"
     ]
    },
    {
     "name": "stderr",
     "output_type": "stream",
     "text": [
      "[Parallel(n_jobs=-1)]: Done  16 tasks      | elapsed: 123.9min\n",
      "[Parallel(n_jobs=-1)]: Done  51 out of  51 | elapsed: 349.3min finished\n",
      "C:\\Users\\laure\\Anaconda3\\envs\\neuralsnets\\lib\\site-packages\\sklearn\\preprocessing\\label.py:151: DeprecationWarning: The truth value of an empty array is ambiguous. Returning False, but in future this will result in an error. Use `array.size > 0` to check that an array is not empty.\n",
      "  if diff:\n"
     ]
    },
    {
     "name": "stdout",
     "output_type": "stream",
     "text": [
      "Fitting 3 folds for each of 17 candidates, totalling 51 fits\n"
     ]
    },
    {
     "name": "stderr",
     "output_type": "stream",
     "text": [
      "[Parallel(n_jobs=-1)]: Done  16 tasks      | elapsed: 124.5min\n",
      "[Parallel(n_jobs=-1)]: Done  51 out of  51 | elapsed: 321.9min finished\n",
      "C:\\Users\\laure\\Anaconda3\\envs\\neuralsnets\\lib\\site-packages\\sklearn\\preprocessing\\label.py:151: DeprecationWarning: The truth value of an empty array is ambiguous. Returning False, but in future this will result in an error. Use `array.size > 0` to check that an array is not empty.\n",
      "  if diff:\n"
     ]
    },
    {
     "name": "stdout",
     "output_type": "stream",
     "text": [
      "\n",
      "##### Dataset size: 200\n",
      "--- Train Scores ---\n",
      "Recall: 0.5163888888888889\n",
      "Precision: 0.5163888888888889\n",
      "F1 score: 0.5163888888888889\n",
      "\n",
      "{'colsample_bylevel': 1, 'max_delta_step': 0, 'gamma': 0, 'booster': 'gbtree', 'learning_rate': 0.021299833974468642, 'max_depth': 3, 'missing': None, 'colsample_bytree': 0.7219842426340903, 'min_child_weight': 2, 'random_state': 0, 'seed': None, 'silent': True, 'subsample': 0.7288450049265263, 'n_estimators': 194, 'reg_lambda': 1, 'n_jobs': 1, 'scale_pos_weight': 1, 'reg_alpha': 0, 'base_score': 0.5, 'nthread': None, 'objective': 'multi:softprob'}\n",
      "\n"
     ]
    },
    {
     "name": "stderr",
     "output_type": "stream",
     "text": [
      "C:\\Users\\laure\\Anaconda3\\envs\\neuralsnets\\lib\\site-packages\\sklearn\\preprocessing\\label.py:151: DeprecationWarning: The truth value of an empty array is ambiguous. Returning False, but in future this will result in an error. Use `array.size > 0` to check that an array is not empty.\n",
      "  if diff:\n"
     ]
    },
    {
     "name": "stdout",
     "output_type": "stream",
     "text": [
      "{'colsample_bylevel': 1, 'max_delta_step': 0, 'gamma': 0, 'booster': 'gbtree', 'learning_rate': 0.05183485666488996, 'max_depth': 5, 'missing': None, 'colsample_bytree': 0.7860938439263685, 'min_child_weight': 1, 'random_state': 0, 'seed': None, 'silent': True, 'subsample': 0.31938134650716415, 'n_estimators': 165, 'reg_lambda': 1, 'n_jobs': 1, 'scale_pos_weight': 1, 'reg_alpha': 0, 'base_score': 0.5, 'nthread': None, 'objective': 'multi:softprob'}\n",
      "\n"
     ]
    },
    {
     "name": "stderr",
     "output_type": "stream",
     "text": [
      "C:\\Users\\laure\\Anaconda3\\envs\\neuralsnets\\lib\\site-packages\\sklearn\\preprocessing\\label.py:151: DeprecationWarning: The truth value of an empty array is ambiguous. Returning False, but in future this will result in an error. Use `array.size > 0` to check that an array is not empty.\n",
      "  if diff:\n"
     ]
    },
    {
     "name": "stdout",
     "output_type": "stream",
     "text": [
      "{'colsample_bylevel': 1, 'max_delta_step': 0, 'gamma': 0, 'booster': 'gbtree', 'learning_rate': 0.03210946804939611, 'max_depth': 4, 'missing': None, 'colsample_bytree': 0.8269141058234739, 'min_child_weight': 1, 'random_state': 0, 'seed': None, 'silent': True, 'subsample': 0.49650533503975103, 'n_estimators': 158, 'reg_lambda': 1, 'n_jobs': 1, 'scale_pos_weight': 1, 'reg_alpha': 0, 'base_score': 0.5, 'nthread': None, 'objective': 'multi:softprob'}\n",
      "\n"
     ]
    },
    {
     "name": "stderr",
     "output_type": "stream",
     "text": [
      "C:\\Users\\laure\\Anaconda3\\envs\\neuralsnets\\lib\\site-packages\\sklearn\\preprocessing\\label.py:151: DeprecationWarning: The truth value of an empty array is ambiguous. Returning False, but in future this will result in an error. Use `array.size > 0` to check that an array is not empty.\n",
      "  if diff:\n"
     ]
    },
    {
     "name": "stdout",
     "output_type": "stream",
     "text": [
      "{'colsample_bylevel': 1, 'max_delta_step': 0, 'gamma': 0, 'booster': 'gbtree', 'learning_rate': 0.03140528773861325, 'max_depth': 7, 'missing': None, 'colsample_bytree': 0.9494573080097136, 'min_child_weight': 1, 'random_state': 0, 'seed': None, 'silent': True, 'subsample': 0.6213021193993518, 'n_estimators': 492, 'reg_lambda': 1, 'n_jobs': 1, 'scale_pos_weight': 1, 'reg_alpha': 0, 'base_score': 0.5, 'nthread': None, 'objective': 'multi:softprob'}\n",
      "\n"
     ]
    },
    {
     "name": "stderr",
     "output_type": "stream",
     "text": [
      "C:\\Users\\laure\\Anaconda3\\envs\\neuralsnets\\lib\\site-packages\\sklearn\\preprocessing\\label.py:151: DeprecationWarning: The truth value of an empty array is ambiguous. Returning False, but in future this will result in an error. Use `array.size > 0` to check that an array is not empty.\n",
      "  if diff:\n"
     ]
    },
    {
     "name": "stdout",
     "output_type": "stream",
     "text": [
      "{'colsample_bylevel': 1, 'max_delta_step': 0, 'gamma': 0, 'booster': 'gbtree', 'learning_rate': 0.01105492758614463, 'max_depth': 8, 'missing': None, 'colsample_bytree': 0.8997979448778999, 'min_child_weight': 2, 'random_state': 0, 'seed': None, 'silent': True, 'subsample': 0.6996536896293963, 'n_estimators': 153, 'reg_lambda': 1, 'n_jobs': 1, 'scale_pos_weight': 1, 'reg_alpha': 0, 'base_score': 0.5, 'nthread': None, 'objective': 'multi:softprob'}\n",
      "\n"
     ]
    },
    {
     "name": "stderr",
     "output_type": "stream",
     "text": [
      "C:\\Users\\laure\\Anaconda3\\envs\\neuralsnets\\lib\\site-packages\\sklearn\\preprocessing\\label.py:151: DeprecationWarning: The truth value of an empty array is ambiguous. Returning False, but in future this will result in an error. Use `array.size > 0` to check that an array is not empty.\n",
      "  if diff:\n"
     ]
    },
    {
     "name": "stdout",
     "output_type": "stream",
     "text": [
      "--- Test Scores ---\n",
      "Recall: 0.552\n",
      "Precision: 0.552\n",
      "F1 score: 0.552\n",
      "\n",
      "Fitting 3 folds for each of 17 candidates, totalling 51 fits\n"
     ]
    },
    {
     "name": "stderr",
     "output_type": "stream",
     "text": [
      "[Parallel(n_jobs=-1)]: Done  16 tasks      | elapsed: 174.3min\n",
      "[Parallel(n_jobs=-1)]: Done  51 out of  51 | elapsed: 454.8min finished\n",
      "C:\\Users\\laure\\Anaconda3\\envs\\neuralsnets\\lib\\site-packages\\sklearn\\preprocessing\\label.py:151: DeprecationWarning: The truth value of an empty array is ambiguous. Returning False, but in future this will result in an error. Use `array.size > 0` to check that an array is not empty.\n",
      "  if diff:\n"
     ]
    },
    {
     "name": "stdout",
     "output_type": "stream",
     "text": [
      "Fitting 3 folds for each of 17 candidates, totalling 51 fits\n"
     ]
    },
    {
     "name": "stderr",
     "output_type": "stream",
     "text": [
      "[Parallel(n_jobs=-1)]: Done  16 tasks      | elapsed: 153.6min\n"
     ]
    }
   ],
   "source": [
    "from sklearn.metrics import recall_score, precision_score, f1_score\n",
    "from sklearn.cross_validation import KFold\n",
    "from sklearn.model_selection import RandomizedSearchCV\n",
    "from scipy import stats\n",
    "import xgboost as xgb\n",
    "import pickle\n",
    "import warnings\n",
    "with warnings.catch_warnings():\n",
    "    warnings.filterwarnings(\"ignore\",category=DeprecationWarning)\n",
    "\n",
    "def one_hot(label, size):\n",
    "    vec = np.zeros(int(size))\n",
    "    vec[int(label)] = 1.\n",
    "    return vec\n",
    "    \n",
    "data_path = '../data/preds/'\n",
    "\n",
    "xgb_train_recalls = []\n",
    "xgb_train_precisions = []\n",
    "xgb_train_f1s = []\n",
    "xgb_test_recalls = []\n",
    "xgb_test_precisions = []\n",
    "xgb_test_f1s = []\n",
    "xgb_lists = [xgb_train_recalls, xgb_train_precisions, xgb_train_f1s, xgb_test_recalls, xgb_test_precisions, xgb_test_f1s]\n",
    "\n",
    "for size in np.linspace(25,250,10):\n",
    "    set_path = data_path + str(int(size)) + '/'\n",
    "    \n",
    "    X = []\n",
    "    y = []\n",
    "    X_test = []\n",
    "    y_test = []\n",
    "    for i in range(9):\n",
    "        with open(set_path + 'train/preds_split' + str(i), 'rb') as f:\n",
    "            X.append(pickle.load(f))\n",
    "        with open(set_path + 'train/labels_split' + str(i), 'rb') as f:\n",
    "            y.append(pickle.load(f))\n",
    "    X = np.array([item for sublist in X for item in sublist])\n",
    "    y = np.array([item for sublist in y for item in sublist])\n",
    "    with open(set_path + 'test/preds9', 'rb') as f:\n",
    "        X_test = pickle.load(f)\n",
    "    with open(set_path + 'test/labels9', 'rb') as f:\n",
    "        y_test = np.array(pickle.load(f))\n",
    "    \n",
    "    clf_xgb = xgb.XGBClassifier(objective = 'multi:softmax')\n",
    "    param_dist = {'n_estimators': stats.randint(150, 500),\n",
    "                  'learning_rate': stats.uniform(0.01, 0.07),\n",
    "                  'subsample': stats.uniform(0.3, 0.7),\n",
    "                  'max_depth': [3, 4, 5, 6, 7, 8, 9],\n",
    "                  'colsample_bytree': stats.uniform(0.6, 0.45),\n",
    "                  'min_child_weight': [1, 2, 3]\n",
    "                 }\n",
    "    clf = RandomizedSearchCV(clf_xgb, param_distributions = param_dist, n_iter = 17, scoring = 'f1_micro', error_score = 0, verbose = 3, n_jobs = -1)\n",
    "    \n",
    "    numFolds = 5\n",
    "    folds = KFold(n = len(X), shuffle = True, n_folds = numFolds)\n",
    "    \n",
    "    estimators = []\n",
    "    results = np.zeros(len(X))\n",
    "    rec_score = 0.0\n",
    "    prec_score = 0.0\n",
    "    f_score = 0.0\n",
    "    for train_index, valid_index in folds:\n",
    "        X_train, X_valid = X[train_index], X[valid_index]\n",
    "        y_train, y_valid = y[train_index], y[valid_index]\n",
    "        clf.fit(X_train, y_train)\n",
    "\n",
    "        estimators.append(clf.best_estimator_)\n",
    "        results[valid_index] = clf.predict(X_valid)\n",
    "        rec_score += recall_score(y_valid, results[valid_index], average='micro')\n",
    "        prec_score += precision_score(y_valid, results[valid_index], average='micro')\n",
    "        f_score += f1_score(y_valid, results[valid_index], average='micro')\n",
    "    rec_score /= numFolds\n",
    "    prec_score /= numFolds\n",
    "    f_score /= numFolds\n",
    "    xgb_train_recalls.append(rec_score)\n",
    "    xgb_train_precisions.append(prec_score)\n",
    "    xgb_train_f1s.append(f_score)\n",
    "    \n",
    "    print('')\n",
    "    print('##### Dataset size:', int(size))\n",
    "    print('--- Train Scores ---')\n",
    "    print('Recall:', rec_score)\n",
    "    print('Precision:', prec_score)\n",
    "    print('F1 score:', f_score)\n",
    "    print('')\n",
    "    \n",
    "    preds = []\n",
    "    for e in estimators:\n",
    "        print(e.get_params())\n",
    "        print('')\n",
    "        preds.append(e.predict(X_test))\n",
    "    votes = []\n",
    "    for i in range(len(preds[0])):\n",
    "        pred = [p[i] for p in preds]\n",
    "        votes.append(max(set(pred), key=pred.count))\n",
    "    votes = np.array(votes)\n",
    "    rec_score = recall_score(y_test, votes, average='micro')\n",
    "    prec_score = precision_score(y_test, votes, average='micro')\n",
    "    f_score = f1_score(y_test, votes, average='micro')\n",
    "    xgb_test_recalls.append(rec_score)\n",
    "    xgb_test_precisions.append(prec_score)\n",
    "    xgb_test_f1s.append(f_score)\n",
    "    \n",
    "    print('--- Test Scores ---')\n",
    "    print('Recall:', rec_score)\n",
    "    print('Precision:', prec_score)\n",
    "    print('F1 score:', f_score)\n",
    "    print('')"
   ]
  },
  {
   "cell_type": "code",
   "execution_count": null,
   "metadata": {},
   "outputs": [],
   "source": [
    "with open('xgb_scores.pkl', 'wb+') as f:\n",
    "    pickle.dump(xgb_lists, f)"
   ]
  },
  {
   "cell_type": "code",
   "execution_count": 73,
   "metadata": {},
   "outputs": [
    {
     "name": "stdout",
     "output_type": "stream",
     "text": [
      "##### Dataset size: 50\n",
      "--- Test Scores ---\n",
      "Recall: 0.638\n",
      "Precision: 0.638\n",
      "F1 score: 0.638\n",
      "\n"
     ]
    }
   ],
   "source": [
    "preds = []\n",
    "for e in estimators:\n",
    "    preds.append(e.predict(X_test))\n",
    "votes = []\n",
    "for i in range(len(preds[0])):\n",
    "    pred = [p[i] for p in preds]\n",
    "    votes.append(max(set(pred), key=pred.count))\n",
    "votes = np.array(votes)\n",
    "print('##### Dataset size:', int(size))\n",
    "print('--- Test Scores ---')\n",
    "print('Recall:', recall_score(y_test, votes, average='micro'))\n",
    "print('Precision:', precision_score(y_test, votes, average='micro'))\n",
    "print('F1 score:', f1_score(y_test, votes, average='micro'))\n",
    "print('')"
   ]
  },
  {
   "cell_type": "code",
   "execution_count": null,
   "metadata": {},
   "outputs": [],
   "source": []
  }
 ],
 "metadata": {
  "kernelspec": {
   "display_name": "Python 3",
   "language": "python",
   "name": "python3"
  },
  "language_info": {
   "codemirror_mode": {
    "name": "ipython",
    "version": 3
   },
   "file_extension": ".py",
   "mimetype": "text/x-python",
   "name": "python",
   "nbconvert_exporter": "python",
   "pygments_lexer": "ipython3",
   "version": "3.5.4"
  }
 },
 "nbformat": 4,
 "nbformat_minor": 2
}
