{
 "cells": [
  {
   "cell_type": "code",
   "execution_count": 1,
   "metadata": {},
   "outputs": [],
   "source": [
    "import os\n",
    "import codecs\n",
    "import pandas as pd\n",
    "import numpy as np\n",
    "import random\n",
    "import statistics\n",
    "from tqdm import tqdm\n",
    "random.seed(7)"
   ]
  },
  {
   "cell_type": "code",
   "execution_count": 2,
   "metadata": {},
   "outputs": [
    {
     "name": "stdout",
     "output_type": "stream",
     "text": [
      "304\n",
      "62697\n"
     ]
    },
    {
     "data": {
      "text/html": [
       "<div>\n",
       "<style scoped>\n",
       "    .dataframe tbody tr th:only-of-type {\n",
       "        vertical-align: middle;\n",
       "    }\n",
       "\n",
       "    .dataframe tbody tr th {\n",
       "        vertical-align: top;\n",
       "    }\n",
       "\n",
       "    .dataframe thead th {\n",
       "        text-align: right;\n",
       "    }\n",
       "</style>\n",
       "<table border=\"1\" class=\"dataframe\">\n",
       "  <thead>\n",
       "    <tr style=\"text-align: right;\">\n",
       "      <th></th>\n",
       "      <th>Unnamed: 0</th>\n",
       "      <th>id</th>\n",
       "      <th>gender</th>\n",
       "      <th>age</th>\n",
       "      <th>topic</th>\n",
       "      <th>sign</th>\n",
       "      <th>date</th>\n",
       "      <th>text</th>\n",
       "    </tr>\n",
       "  </thead>\n",
       "  <tbody>\n",
       "    <tr>\n",
       "      <th>0</th>\n",
       "      <td>573</td>\n",
       "      <td>3176655</td>\n",
       "      <td>male</td>\n",
       "      <td>24</td>\n",
       "      <td>Engineering</td>\n",
       "      <td>Libra</td>\n",
       "      <td>03,July,2004</td>\n",
       "      <td>If I had a band I'd call it '...</td>\n",
       "    </tr>\n",
       "    <tr>\n",
       "      <th>1</th>\n",
       "      <td>574</td>\n",
       "      <td>3176655</td>\n",
       "      <td>male</td>\n",
       "      <td>24</td>\n",
       "      <td>Engineering</td>\n",
       "      <td>Libra</td>\n",
       "      <td>03,July,2004</td>\n",
       "      <td>Well...  I hate to say it, bu...</td>\n",
       "    </tr>\n",
       "    <tr>\n",
       "      <th>2</th>\n",
       "      <td>575</td>\n",
       "      <td>3176655</td>\n",
       "      <td>male</td>\n",
       "      <td>24</td>\n",
       "      <td>Engineering</td>\n",
       "      <td>Libra</td>\n",
       "      <td>03,July,2004</td>\n",
       "      <td>How do we move on now?  How d...</td>\n",
       "    </tr>\n",
       "    <tr>\n",
       "      <th>3</th>\n",
       "      <td>576</td>\n",
       "      <td>3176655</td>\n",
       "      <td>male</td>\n",
       "      <td>24</td>\n",
       "      <td>Engineering</td>\n",
       "      <td>Libra</td>\n",
       "      <td>03,July,2004</td>\n",
       "      <td>Humor is my primary tool for ...</td>\n",
       "    </tr>\n",
       "    <tr>\n",
       "      <th>4</th>\n",
       "      <td>577</td>\n",
       "      <td>3176655</td>\n",
       "      <td>male</td>\n",
       "      <td>24</td>\n",
       "      <td>Engineering</td>\n",
       "      <td>Libra</td>\n",
       "      <td>03,July,2004</td>\n",
       "      <td>Warning: If you know me and a...</td>\n",
       "    </tr>\n",
       "  </tbody>\n",
       "</table>\n",
       "</div>"
      ],
      "text/plain": [
       "   Unnamed: 0       id gender  age        topic   sign          date  \\\n",
       "0         573  3176655   male   24  Engineering  Libra  03,July,2004   \n",
       "1         574  3176655   male   24  Engineering  Libra  03,July,2004   \n",
       "2         575  3176655   male   24  Engineering  Libra  03,July,2004   \n",
       "3         576  3176655   male   24  Engineering  Libra  03,July,2004   \n",
       "4         577  3176655   male   24  Engineering  Libra  03,July,2004   \n",
       "\n",
       "                                                text  \n",
       "0                   If I had a band I'd call it '...  \n",
       "1                   Well...  I hate to say it, bu...  \n",
       "2                   How do we move on now?  How d...  \n",
       "3                   Humor is my primary tool for ...  \n",
       "4                   Warning: If you know me and a...  "
      ]
     },
     "execution_count": 2,
     "metadata": {},
     "output_type": "execute_result"
    }
   ],
   "source": [
    "df = pd.read_csv('../data/blogtext_selection.csv')\n",
    "print(len(set(df['id'].values)))\n",
    "print(len(df))\n",
    "df.head()"
   ]
  },
  {
   "cell_type": "code",
   "execution_count": 3,
   "metadata": {},
   "outputs": [],
   "source": [
    "def create_dataset(nr_authors, blog_df, lower_percentile=25, upper_percentile=75):\n",
    "    authors = list(set(df['id'].values))\n",
    "    random.shuffle(authors)\n",
    "    for a in tqdm(authors[:nr_authors]):\n",
    "        blogs = df[df['id'] == a]['text'].values\n",
    "        lower_p = np.percentile([len(b) for b in blogs], lower_percentile)\n",
    "        upper_p = np.percentile([len(b) for b in blogs], upper_percentile)\n",
    "        blogs = [b for b in blogs if lower_p <= len(b) <= upper_p]\n",
    "\n",
    "        traindir = '../data/' + str(nr_authors) + '/train/' + str(a) + '/'\n",
    "        testdir = '../data/' + str(nr_authors) + '/test/' + str(a) + '/'\n",
    "        if not os.path.exists(traindir):\n",
    "            os.makedirs(traindir)\n",
    "        if not os.path.exists(testdir):\n",
    "            os.makedirs(testdir)\n",
    "\n",
    "        random.shuffle(blogs)\n",
    "        blogs = blogs[:50]\n",
    "        for i, b in enumerate(blogs[:40]):\n",
    "            with codecs.open(traindir + str(i+1) + '.txt','w+','utf-8') as f:\n",
    "                f.write(b)\n",
    "\n",
    "        for i, b in enumerate(blogs[40:]):\n",
    "            with codecs.open(testdir + str(i+1) + '.txt','w+','utf-8') as f:\n",
    "                f.write(b)"
   ]
  },
  {
   "cell_type": "code",
   "execution_count": 4,
   "metadata": {},
   "outputs": [
    {
     "name": "stderr",
     "output_type": "stream",
     "text": [
      "100%|█████████████████████████████████████████████████████| 25/25 [00:06<00:00,  3.94it/s]\n",
      "100%|█████████████████████████████████████████████████████| 50/50 [00:12<00:00,  3.94it/s]\n",
      "100%|█████████████████████████████████████████████████████| 75/75 [00:21<00:00,  3.49it/s]\n",
      "100%|███████████████████████████████████████████████████| 100/100 [00:26<00:00,  3.84it/s]\n",
      "100%|███████████████████████████████████████████████████| 125/125 [00:30<00:00,  4.10it/s]\n",
      "100%|███████████████████████████████████████████████████| 150/150 [00:37<00:00,  3.97it/s]\n",
      "100%|███████████████████████████████████████████████████| 175/175 [00:43<00:00,  3.99it/s]\n",
      "100%|███████████████████████████████████████████████████| 200/200 [00:50<00:00,  3.96it/s]\n",
      "100%|███████████████████████████████████████████████████| 225/225 [00:58<00:00,  3.86it/s]\n",
      "100%|███████████████████████████████████████████████████| 250/250 [01:07<00:00,  3.71it/s]\n"
     ]
    }
   ],
   "source": [
    "for nr_authors in np.linspace(25,250,10):\n",
    "    create_dataset(int(nr_authors), df)"
   ]
  },
  {
   "cell_type": "code",
   "execution_count": 10,
   "metadata": {},
   "outputs": [
    {
     "name": "stdout",
     "output_type": "stream",
     "text": [
      "[ 25.  50.  75. 100. 125. 150. 175. 200. 225. 250.]\n"
     ]
    }
   ],
   "source": [
    "print(np.linspace(25,250,10))"
   ]
  },
  {
   "cell_type": "code",
   "execution_count": null,
   "metadata": {},
   "outputs": [],
   "source": [
    "print([0]*5)"
   ]
  }
 ],
 "metadata": {
  "kernelspec": {
   "display_name": "Python 3",
   "language": "python",
   "name": "python3"
  },
  "language_info": {
   "codemirror_mode": {
    "name": "ipython",
    "version": 3
   },
   "file_extension": ".py",
   "mimetype": "text/x-python",
   "name": "python",
   "nbconvert_exporter": "python",
   "pygments_lexer": "ipython3",
   "version": "3.5.4"
  }
 },
 "nbformat": 4,
 "nbformat_minor": 2
}
