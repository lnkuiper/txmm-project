{
 "cells": [
  {
   "cell_type": "code",
   "execution_count": 2,
   "metadata": {},
   "outputs": [],
   "source": [
    "import numpy as np\n",
    "import pandas as pd\n",
    "import matplotlib.pyplot as plt\n",
    "from itertools import groupby\n",
    "import statistics\n",
    "import copy\n",
    "from langdetect import detect"
   ]
  },
  {
   "cell_type": "code",
   "execution_count": 3,
   "metadata": {},
   "outputs": [
    {
     "data": {
      "text/html": [
       "<div>\n",
       "<style scoped>\n",
       "    .dataframe tbody tr th:only-of-type {\n",
       "        vertical-align: middle;\n",
       "    }\n",
       "\n",
       "    .dataframe tbody tr th {\n",
       "        vertical-align: top;\n",
       "    }\n",
       "\n",
       "    .dataframe thead th {\n",
       "        text-align: right;\n",
       "    }\n",
       "</style>\n",
       "<table border=\"1\" class=\"dataframe\">\n",
       "  <thead>\n",
       "    <tr style=\"text-align: right;\">\n",
       "      <th></th>\n",
       "      <th>Unnamed: 0</th>\n",
       "      <th>id</th>\n",
       "      <th>gender</th>\n",
       "      <th>age</th>\n",
       "      <th>topic</th>\n",
       "      <th>sign</th>\n",
       "      <th>date</th>\n",
       "      <th>text</th>\n",
       "    </tr>\n",
       "  </thead>\n",
       "  <tbody>\n",
       "    <tr>\n",
       "      <th>0</th>\n",
       "      <td>573</td>\n",
       "      <td>3176655</td>\n",
       "      <td>male</td>\n",
       "      <td>24</td>\n",
       "      <td>Engineering</td>\n",
       "      <td>Libra</td>\n",
       "      <td>03,July,2004</td>\n",
       "      <td>If I had a band I'd call it '...</td>\n",
       "    </tr>\n",
       "    <tr>\n",
       "      <th>1</th>\n",
       "      <td>574</td>\n",
       "      <td>3176655</td>\n",
       "      <td>male</td>\n",
       "      <td>24</td>\n",
       "      <td>Engineering</td>\n",
       "      <td>Libra</td>\n",
       "      <td>03,July,2004</td>\n",
       "      <td>Well...  I hate to say it, bu...</td>\n",
       "    </tr>\n",
       "    <tr>\n",
       "      <th>2</th>\n",
       "      <td>575</td>\n",
       "      <td>3176655</td>\n",
       "      <td>male</td>\n",
       "      <td>24</td>\n",
       "      <td>Engineering</td>\n",
       "      <td>Libra</td>\n",
       "      <td>03,July,2004</td>\n",
       "      <td>How do we move on now?  How d...</td>\n",
       "    </tr>\n",
       "    <tr>\n",
       "      <th>3</th>\n",
       "      <td>576</td>\n",
       "      <td>3176655</td>\n",
       "      <td>male</td>\n",
       "      <td>24</td>\n",
       "      <td>Engineering</td>\n",
       "      <td>Libra</td>\n",
       "      <td>03,July,2004</td>\n",
       "      <td>Humor is my primary tool for ...</td>\n",
       "    </tr>\n",
       "    <tr>\n",
       "      <th>4</th>\n",
       "      <td>577</td>\n",
       "      <td>3176655</td>\n",
       "      <td>male</td>\n",
       "      <td>24</td>\n",
       "      <td>Engineering</td>\n",
       "      <td>Libra</td>\n",
       "      <td>03,July,2004</td>\n",
       "      <td>Warning: If you know me and a...</td>\n",
       "    </tr>\n",
       "  </tbody>\n",
       "</table>\n",
       "</div>"
      ],
      "text/plain": [
       "   Unnamed: 0       id gender  age        topic   sign          date  \\\n",
       "0         573  3176655   male   24  Engineering  Libra  03,July,2004   \n",
       "1         574  3176655   male   24  Engineering  Libra  03,July,2004   \n",
       "2         575  3176655   male   24  Engineering  Libra  03,July,2004   \n",
       "3         576  3176655   male   24  Engineering  Libra  03,July,2004   \n",
       "4         577  3176655   male   24  Engineering  Libra  03,July,2004   \n",
       "\n",
       "                                                text  \n",
       "0                   If I had a band I'd call it '...  \n",
       "1                   Well...  I hate to say it, bu...  \n",
       "2                   How do we move on now?  How d...  \n",
       "3                   Humor is my primary tool for ...  \n",
       "4                   Warning: If you know me and a...  "
      ]
     },
     "execution_count": 3,
     "metadata": {},
     "output_type": "execute_result"
    }
   ],
   "source": [
    "df = pd.read_csv('../data/blogtext_selection.csv')\n",
    "df.head()"
   ]
  },
  {
   "cell_type": "code",
   "execution_count": 4,
   "metadata": {},
   "outputs": [
    {
     "name": "stdout",
     "output_type": "stream",
     "text": [
      "Amount of blog posts: 62697\n",
      "Number of authors: 304\n"
     ]
    }
   ],
   "source": [
    "authors = df['id'].values\n",
    "\n",
    "print('Amount of blog posts:',len(df))\n",
    "print('Number of authors:',len(set(authors)))"
   ]
  },
  {
   "cell_type": "code",
   "execution_count": 5,
   "metadata": {},
   "outputs": [
    {
     "name": "stdout",
     "output_type": "stream",
     "text": [
      "Authors left after selection: 304\n",
      "Number of blogs in selected dataset: 62697\n"
     ]
    }
   ],
   "source": [
    "min_blogs = 100\n",
    "min_blog_median = 1000\n",
    "\n",
    "unique_authors = [a for a in set(authors)]\n",
    "medians = []\n",
    "\n",
    "for a in unique_authors:\n",
    "    a_df = df[df['id'] == a]\n",
    "    blogs = len(a_df)\n",
    "    if blogs >= min_blogs:\n",
    "        median_tuple = (statistics.median([len(t) for t in a_df['text'].values]),blogs,a)\n",
    "        if median_tuple[0] >= min_blog_median:\n",
    "            medians.append(median_tuple)\n",
    "            \n",
    "medians = sorted(medians, reverse=True)\n",
    "\n",
    "candidate_auths = [p[2] for p in medians]\n",
    "df_top = df[df['id'].map(lambda i: i in candidate_auths)]\n",
    "\n",
    "print('Authors left after selection:',len(medians))\n",
    "print('Number of blogs in selected dataset:',len(df_top))"
   ]
  },
  {
   "cell_type": "code",
   "execution_count": 5,
   "metadata": {},
   "outputs": [
    {
     "name": "stdout",
     "output_type": "stream",
     "text": [
      "Remaining authors after language selection: 304\n"
     ]
    }
   ],
   "source": [
    "selected_auths = []\n",
    "\n",
    "for a in candidate_auths:\n",
    "    a_df = df_top[df_top['id'] == a]\n",
    "    blogs = a_df['text'].values\n",
    "    \n",
    "    english = True\n",
    "    for b in blogs:\n",
    "        if len(b) > 250:\n",
    "            if detect(b) != 'en':\n",
    "                english = False\n",
    "    \n",
    "    if english:\n",
    "        selected_auths.append(a)\n",
    "\n",
    "print('Remaining authors after language selection:', len(selected_auths))"
   ]
  },
  {
   "cell_type": "code",
   "execution_count": 6,
   "metadata": {},
   "outputs": [],
   "source": [
    "df_selected = df_top[df_top['id'].map(lambda i: i in selected_auths)]\n",
    "df_selected.to_csv('../data/blogtext_selection.csv')"
   ]
  },
  {
   "cell_type": "code",
   "execution_count": null,
   "metadata": {},
   "outputs": [],
   "source": []
  }
 ],
 "metadata": {
  "kernelspec": {
   "display_name": "Python 3",
   "language": "python",
   "name": "python3"
  },
  "language_info": {
   "codemirror_mode": {
    "name": "ipython",
    "version": 3
   },
   "file_extension": ".py",
   "mimetype": "text/x-python",
   "name": "python",
   "nbconvert_exporter": "python",
   "pygments_lexer": "ipython3",
   "version": "3.5.4"
  }
 },
 "nbformat": 4,
 "nbformat_minor": 2
}
